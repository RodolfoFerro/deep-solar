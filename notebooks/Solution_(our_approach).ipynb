{
  "nbformat": 4,
  "nbformat_minor": 0,
  "metadata": {
    "colab": {
      "provenance": [],
      "collapsed_sections": [],
      "authorship_tag": "ABX9TyMhmcnJ68pcfrIxbRiBctch",
      "include_colab_link": true
    },
    "kernelspec": {
      "name": "python3",
      "display_name": "Python 3"
    },
    "language_info": {
      "name": "python"
    },
    "widgets": {
      "application/vnd.jupyter.widget-state+json": {
        "1cf44a5eeb094f958f92545fee738b5a": {
          "model_module": "@jupyter-widgets/controls",
          "model_name": "HBoxModel",
          "model_module_version": "1.5.0",
          "state": {
            "_dom_classes": [],
            "_model_module": "@jupyter-widgets/controls",
            "_model_module_version": "1.5.0",
            "_model_name": "HBoxModel",
            "_view_count": null,
            "_view_module": "@jupyter-widgets/controls",
            "_view_module_version": "1.5.0",
            "_view_name": "HBoxView",
            "box_style": "",
            "children": [
              "IPY_MODEL_7c50bd517ef947ba91862f06a72b5397",
              "IPY_MODEL_f5233e00530d4b8bb6db2956a535295f",
              "IPY_MODEL_c5607eddfc0448d9992857f9007ceb09"
            ],
            "layout": "IPY_MODEL_04f6a27acc7b4d8ea4db2438593dde0e"
          }
        },
        "7c50bd517ef947ba91862f06a72b5397": {
          "model_module": "@jupyter-widgets/controls",
          "model_name": "HTMLModel",
          "model_module_version": "1.5.0",
          "state": {
            "_dom_classes": [],
            "_model_module": "@jupyter-widgets/controls",
            "_model_module_version": "1.5.0",
            "_model_name": "HTMLModel",
            "_view_count": null,
            "_view_module": "@jupyter-widgets/controls",
            "_view_module_version": "1.5.0",
            "_view_name": "HTMLView",
            "description": "",
            "description_tooltip": null,
            "layout": "IPY_MODEL_2f102c0f385d416ea33e38bbd8396e4d",
            "placeholder": "​",
            "style": "IPY_MODEL_fa66d6e9acf347d0b934e02edcd9af8e",
            "value": "100%"
          }
        },
        "f5233e00530d4b8bb6db2956a535295f": {
          "model_module": "@jupyter-widgets/controls",
          "model_name": "FloatProgressModel",
          "model_module_version": "1.5.0",
          "state": {
            "_dom_classes": [],
            "_model_module": "@jupyter-widgets/controls",
            "_model_module_version": "1.5.0",
            "_model_name": "FloatProgressModel",
            "_view_count": null,
            "_view_module": "@jupyter-widgets/controls",
            "_view_module_version": "1.5.0",
            "_view_name": "ProgressView",
            "bar_style": "success",
            "description": "",
            "description_tooltip": null,
            "layout": "IPY_MODEL_7c0cf28ea512416a8654e5f6fea5ae41",
            "max": 32,
            "min": 0,
            "orientation": "horizontal",
            "style": "IPY_MODEL_1d5967bd1dad4f0c8635c3c76afab97a",
            "value": 32
          }
        },
        "c5607eddfc0448d9992857f9007ceb09": {
          "model_module": "@jupyter-widgets/controls",
          "model_name": "HTMLModel",
          "model_module_version": "1.5.0",
          "state": {
            "_dom_classes": [],
            "_model_module": "@jupyter-widgets/controls",
            "_model_module_version": "1.5.0",
            "_model_name": "HTMLModel",
            "_view_count": null,
            "_view_module": "@jupyter-widgets/controls",
            "_view_module_version": "1.5.0",
            "_view_name": "HTMLView",
            "description": "",
            "description_tooltip": null,
            "layout": "IPY_MODEL_4f7f9fe436614b7e8b64bd8bb55d08a1",
            "placeholder": "​",
            "style": "IPY_MODEL_bd1873c5552346c39a50e26fe7273e92",
            "value": " 32/32 [00:16&lt;00:00,  1.97it/s]"
          }
        },
        "04f6a27acc7b4d8ea4db2438593dde0e": {
          "model_module": "@jupyter-widgets/base",
          "model_name": "LayoutModel",
          "model_module_version": "1.2.0",
          "state": {
            "_model_module": "@jupyter-widgets/base",
            "_model_module_version": "1.2.0",
            "_model_name": "LayoutModel",
            "_view_count": null,
            "_view_module": "@jupyter-widgets/base",
            "_view_module_version": "1.2.0",
            "_view_name": "LayoutView",
            "align_content": null,
            "align_items": null,
            "align_self": null,
            "border": null,
            "bottom": null,
            "display": null,
            "flex": null,
            "flex_flow": null,
            "grid_area": null,
            "grid_auto_columns": null,
            "grid_auto_flow": null,
            "grid_auto_rows": null,
            "grid_column": null,
            "grid_gap": null,
            "grid_row": null,
            "grid_template_areas": null,
            "grid_template_columns": null,
            "grid_template_rows": null,
            "height": null,
            "justify_content": null,
            "justify_items": null,
            "left": null,
            "margin": null,
            "max_height": null,
            "max_width": null,
            "min_height": null,
            "min_width": null,
            "object_fit": null,
            "object_position": null,
            "order": null,
            "overflow": null,
            "overflow_x": null,
            "overflow_y": null,
            "padding": null,
            "right": null,
            "top": null,
            "visibility": null,
            "width": null
          }
        },
        "2f102c0f385d416ea33e38bbd8396e4d": {
          "model_module": "@jupyter-widgets/base",
          "model_name": "LayoutModel",
          "model_module_version": "1.2.0",
          "state": {
            "_model_module": "@jupyter-widgets/base",
            "_model_module_version": "1.2.0",
            "_model_name": "LayoutModel",
            "_view_count": null,
            "_view_module": "@jupyter-widgets/base",
            "_view_module_version": "1.2.0",
            "_view_name": "LayoutView",
            "align_content": null,
            "align_items": null,
            "align_self": null,
            "border": null,
            "bottom": null,
            "display": null,
            "flex": null,
            "flex_flow": null,
            "grid_area": null,
            "grid_auto_columns": null,
            "grid_auto_flow": null,
            "grid_auto_rows": null,
            "grid_column": null,
            "grid_gap": null,
            "grid_row": null,
            "grid_template_areas": null,
            "grid_template_columns": null,
            "grid_template_rows": null,
            "height": null,
            "justify_content": null,
            "justify_items": null,
            "left": null,
            "margin": null,
            "max_height": null,
            "max_width": null,
            "min_height": null,
            "min_width": null,
            "object_fit": null,
            "object_position": null,
            "order": null,
            "overflow": null,
            "overflow_x": null,
            "overflow_y": null,
            "padding": null,
            "right": null,
            "top": null,
            "visibility": null,
            "width": null
          }
        },
        "fa66d6e9acf347d0b934e02edcd9af8e": {
          "model_module": "@jupyter-widgets/controls",
          "model_name": "DescriptionStyleModel",
          "model_module_version": "1.5.0",
          "state": {
            "_model_module": "@jupyter-widgets/controls",
            "_model_module_version": "1.5.0",
            "_model_name": "DescriptionStyleModel",
            "_view_count": null,
            "_view_module": "@jupyter-widgets/base",
            "_view_module_version": "1.2.0",
            "_view_name": "StyleView",
            "description_width": ""
          }
        },
        "7c0cf28ea512416a8654e5f6fea5ae41": {
          "model_module": "@jupyter-widgets/base",
          "model_name": "LayoutModel",
          "model_module_version": "1.2.0",
          "state": {
            "_model_module": "@jupyter-widgets/base",
            "_model_module_version": "1.2.0",
            "_model_name": "LayoutModel",
            "_view_count": null,
            "_view_module": "@jupyter-widgets/base",
            "_view_module_version": "1.2.0",
            "_view_name": "LayoutView",
            "align_content": null,
            "align_items": null,
            "align_self": null,
            "border": null,
            "bottom": null,
            "display": null,
            "flex": null,
            "flex_flow": null,
            "grid_area": null,
            "grid_auto_columns": null,
            "grid_auto_flow": null,
            "grid_auto_rows": null,
            "grid_column": null,
            "grid_gap": null,
            "grid_row": null,
            "grid_template_areas": null,
            "grid_template_columns": null,
            "grid_template_rows": null,
            "height": null,
            "justify_content": null,
            "justify_items": null,
            "left": null,
            "margin": null,
            "max_height": null,
            "max_width": null,
            "min_height": null,
            "min_width": null,
            "object_fit": null,
            "object_position": null,
            "order": null,
            "overflow": null,
            "overflow_x": null,
            "overflow_y": null,
            "padding": null,
            "right": null,
            "top": null,
            "visibility": null,
            "width": null
          }
        },
        "1d5967bd1dad4f0c8635c3c76afab97a": {
          "model_module": "@jupyter-widgets/controls",
          "model_name": "ProgressStyleModel",
          "model_module_version": "1.5.0",
          "state": {
            "_model_module": "@jupyter-widgets/controls",
            "_model_module_version": "1.5.0",
            "_model_name": "ProgressStyleModel",
            "_view_count": null,
            "_view_module": "@jupyter-widgets/base",
            "_view_module_version": "1.2.0",
            "_view_name": "StyleView",
            "bar_color": null,
            "description_width": ""
          }
        },
        "4f7f9fe436614b7e8b64bd8bb55d08a1": {
          "model_module": "@jupyter-widgets/base",
          "model_name": "LayoutModel",
          "model_module_version": "1.2.0",
          "state": {
            "_model_module": "@jupyter-widgets/base",
            "_model_module_version": "1.2.0",
            "_model_name": "LayoutModel",
            "_view_count": null,
            "_view_module": "@jupyter-widgets/base",
            "_view_module_version": "1.2.0",
            "_view_name": "LayoutView",
            "align_content": null,
            "align_items": null,
            "align_self": null,
            "border": null,
            "bottom": null,
            "display": null,
            "flex": null,
            "flex_flow": null,
            "grid_area": null,
            "grid_auto_columns": null,
            "grid_auto_flow": null,
            "grid_auto_rows": null,
            "grid_column": null,
            "grid_gap": null,
            "grid_row": null,
            "grid_template_areas": null,
            "grid_template_columns": null,
            "grid_template_rows": null,
            "height": null,
            "justify_content": null,
            "justify_items": null,
            "left": null,
            "margin": null,
            "max_height": null,
            "max_width": null,
            "min_height": null,
            "min_width": null,
            "object_fit": null,
            "object_position": null,
            "order": null,
            "overflow": null,
            "overflow_x": null,
            "overflow_y": null,
            "padding": null,
            "right": null,
            "top": null,
            "visibility": null,
            "width": null
          }
        },
        "bd1873c5552346c39a50e26fe7273e92": {
          "model_module": "@jupyter-widgets/controls",
          "model_name": "DescriptionStyleModel",
          "model_module_version": "1.5.0",
          "state": {
            "_model_module": "@jupyter-widgets/controls",
            "_model_module_version": "1.5.0",
            "_model_name": "DescriptionStyleModel",
            "_view_count": null,
            "_view_module": "@jupyter-widgets/base",
            "_view_module_version": "1.2.0",
            "_view_name": "StyleView",
            "description_width": ""
          }
        },
        "012916e6039d4e4abf346329e1d835b1": {
          "model_module": "@jupyter-widgets/controls",
          "model_name": "HBoxModel",
          "model_module_version": "1.5.0",
          "state": {
            "_dom_classes": [],
            "_model_module": "@jupyter-widgets/controls",
            "_model_module_version": "1.5.0",
            "_model_name": "HBoxModel",
            "_view_count": null,
            "_view_module": "@jupyter-widgets/controls",
            "_view_module_version": "1.5.0",
            "_view_name": "HBoxView",
            "box_style": "",
            "children": [
              "IPY_MODEL_4cacfca8108643cda177ba190b1965a7",
              "IPY_MODEL_d74daf999ee34c7e82620bf67e4f2e0a",
              "IPY_MODEL_3d350ddd1b3e4aebab62b6e993150ef5"
            ],
            "layout": "IPY_MODEL_492899e83bf44c9aae89c3e8eb3d36ee"
          }
        },
        "4cacfca8108643cda177ba190b1965a7": {
          "model_module": "@jupyter-widgets/controls",
          "model_name": "HTMLModel",
          "model_module_version": "1.5.0",
          "state": {
            "_dom_classes": [],
            "_model_module": "@jupyter-widgets/controls",
            "_model_module_version": "1.5.0",
            "_model_name": "HTMLModel",
            "_view_count": null,
            "_view_module": "@jupyter-widgets/controls",
            "_view_module_version": "1.5.0",
            "_view_name": "HTMLView",
            "description": "",
            "description_tooltip": null,
            "layout": "IPY_MODEL_b23d9f00b4d14e63b46085ca93ede80d",
            "placeholder": "​",
            "style": "IPY_MODEL_775dd556d08d478288413f2abc15a266",
            "value": "100%"
          }
        },
        "d74daf999ee34c7e82620bf67e4f2e0a": {
          "model_module": "@jupyter-widgets/controls",
          "model_name": "FloatProgressModel",
          "model_module_version": "1.5.0",
          "state": {
            "_dom_classes": [],
            "_model_module": "@jupyter-widgets/controls",
            "_model_module_version": "1.5.0",
            "_model_name": "FloatProgressModel",
            "_view_count": null,
            "_view_module": "@jupyter-widgets/controls",
            "_view_module_version": "1.5.0",
            "_view_name": "ProgressView",
            "bar_style": "success",
            "description": "",
            "description_tooltip": null,
            "layout": "IPY_MODEL_77f4c2a539da4ec9856e33bf63910f26",
            "max": 32,
            "min": 0,
            "orientation": "horizontal",
            "style": "IPY_MODEL_712daf0381ec426ab98ecb0975929902",
            "value": 32
          }
        },
        "3d350ddd1b3e4aebab62b6e993150ef5": {
          "model_module": "@jupyter-widgets/controls",
          "model_name": "HTMLModel",
          "model_module_version": "1.5.0",
          "state": {
            "_dom_classes": [],
            "_model_module": "@jupyter-widgets/controls",
            "_model_module_version": "1.5.0",
            "_model_name": "HTMLModel",
            "_view_count": null,
            "_view_module": "@jupyter-widgets/controls",
            "_view_module_version": "1.5.0",
            "_view_name": "HTMLView",
            "description": "",
            "description_tooltip": null,
            "layout": "IPY_MODEL_8ebb39cd710e40e9851d8518efc9ee9a",
            "placeholder": "​",
            "style": "IPY_MODEL_73aad9bfb33a4abbb5ef4cf7bc3fbc8c",
            "value": " 32/32 [22:35&lt;00:00, 40.97s/it]"
          }
        },
        "492899e83bf44c9aae89c3e8eb3d36ee": {
          "model_module": "@jupyter-widgets/base",
          "model_name": "LayoutModel",
          "model_module_version": "1.2.0",
          "state": {
            "_model_module": "@jupyter-widgets/base",
            "_model_module_version": "1.2.0",
            "_model_name": "LayoutModel",
            "_view_count": null,
            "_view_module": "@jupyter-widgets/base",
            "_view_module_version": "1.2.0",
            "_view_name": "LayoutView",
            "align_content": null,
            "align_items": null,
            "align_self": null,
            "border": null,
            "bottom": null,
            "display": null,
            "flex": null,
            "flex_flow": null,
            "grid_area": null,
            "grid_auto_columns": null,
            "grid_auto_flow": null,
            "grid_auto_rows": null,
            "grid_column": null,
            "grid_gap": null,
            "grid_row": null,
            "grid_template_areas": null,
            "grid_template_columns": null,
            "grid_template_rows": null,
            "height": null,
            "justify_content": null,
            "justify_items": null,
            "left": null,
            "margin": null,
            "max_height": null,
            "max_width": null,
            "min_height": null,
            "min_width": null,
            "object_fit": null,
            "object_position": null,
            "order": null,
            "overflow": null,
            "overflow_x": null,
            "overflow_y": null,
            "padding": null,
            "right": null,
            "top": null,
            "visibility": null,
            "width": null
          }
        },
        "b23d9f00b4d14e63b46085ca93ede80d": {
          "model_module": "@jupyter-widgets/base",
          "model_name": "LayoutModel",
          "model_module_version": "1.2.0",
          "state": {
            "_model_module": "@jupyter-widgets/base",
            "_model_module_version": "1.2.0",
            "_model_name": "LayoutModel",
            "_view_count": null,
            "_view_module": "@jupyter-widgets/base",
            "_view_module_version": "1.2.0",
            "_view_name": "LayoutView",
            "align_content": null,
            "align_items": null,
            "align_self": null,
            "border": null,
            "bottom": null,
            "display": null,
            "flex": null,
            "flex_flow": null,
            "grid_area": null,
            "grid_auto_columns": null,
            "grid_auto_flow": null,
            "grid_auto_rows": null,
            "grid_column": null,
            "grid_gap": null,
            "grid_row": null,
            "grid_template_areas": null,
            "grid_template_columns": null,
            "grid_template_rows": null,
            "height": null,
            "justify_content": null,
            "justify_items": null,
            "left": null,
            "margin": null,
            "max_height": null,
            "max_width": null,
            "min_height": null,
            "min_width": null,
            "object_fit": null,
            "object_position": null,
            "order": null,
            "overflow": null,
            "overflow_x": null,
            "overflow_y": null,
            "padding": null,
            "right": null,
            "top": null,
            "visibility": null,
            "width": null
          }
        },
        "775dd556d08d478288413f2abc15a266": {
          "model_module": "@jupyter-widgets/controls",
          "model_name": "DescriptionStyleModel",
          "model_module_version": "1.5.0",
          "state": {
            "_model_module": "@jupyter-widgets/controls",
            "_model_module_version": "1.5.0",
            "_model_name": "DescriptionStyleModel",
            "_view_count": null,
            "_view_module": "@jupyter-widgets/base",
            "_view_module_version": "1.2.0",
            "_view_name": "StyleView",
            "description_width": ""
          }
        },
        "77f4c2a539da4ec9856e33bf63910f26": {
          "model_module": "@jupyter-widgets/base",
          "model_name": "LayoutModel",
          "model_module_version": "1.2.0",
          "state": {
            "_model_module": "@jupyter-widgets/base",
            "_model_module_version": "1.2.0",
            "_model_name": "LayoutModel",
            "_view_count": null,
            "_view_module": "@jupyter-widgets/base",
            "_view_module_version": "1.2.0",
            "_view_name": "LayoutView",
            "align_content": null,
            "align_items": null,
            "align_self": null,
            "border": null,
            "bottom": null,
            "display": null,
            "flex": null,
            "flex_flow": null,
            "grid_area": null,
            "grid_auto_columns": null,
            "grid_auto_flow": null,
            "grid_auto_rows": null,
            "grid_column": null,
            "grid_gap": null,
            "grid_row": null,
            "grid_template_areas": null,
            "grid_template_columns": null,
            "grid_template_rows": null,
            "height": null,
            "justify_content": null,
            "justify_items": null,
            "left": null,
            "margin": null,
            "max_height": null,
            "max_width": null,
            "min_height": null,
            "min_width": null,
            "object_fit": null,
            "object_position": null,
            "order": null,
            "overflow": null,
            "overflow_x": null,
            "overflow_y": null,
            "padding": null,
            "right": null,
            "top": null,
            "visibility": null,
            "width": null
          }
        },
        "712daf0381ec426ab98ecb0975929902": {
          "model_module": "@jupyter-widgets/controls",
          "model_name": "ProgressStyleModel",
          "model_module_version": "1.5.0",
          "state": {
            "_model_module": "@jupyter-widgets/controls",
            "_model_module_version": "1.5.0",
            "_model_name": "ProgressStyleModel",
            "_view_count": null,
            "_view_module": "@jupyter-widgets/base",
            "_view_module_version": "1.2.0",
            "_view_name": "StyleView",
            "bar_color": null,
            "description_width": ""
          }
        },
        "8ebb39cd710e40e9851d8518efc9ee9a": {
          "model_module": "@jupyter-widgets/base",
          "model_name": "LayoutModel",
          "model_module_version": "1.2.0",
          "state": {
            "_model_module": "@jupyter-widgets/base",
            "_model_module_version": "1.2.0",
            "_model_name": "LayoutModel",
            "_view_count": null,
            "_view_module": "@jupyter-widgets/base",
            "_view_module_version": "1.2.0",
            "_view_name": "LayoutView",
            "align_content": null,
            "align_items": null,
            "align_self": null,
            "border": null,
            "bottom": null,
            "display": null,
            "flex": null,
            "flex_flow": null,
            "grid_area": null,
            "grid_auto_columns": null,
            "grid_auto_flow": null,
            "grid_auto_rows": null,
            "grid_column": null,
            "grid_gap": null,
            "grid_row": null,
            "grid_template_areas": null,
            "grid_template_columns": null,
            "grid_template_rows": null,
            "height": null,
            "justify_content": null,
            "justify_items": null,
            "left": null,
            "margin": null,
            "max_height": null,
            "max_width": null,
            "min_height": null,
            "min_width": null,
            "object_fit": null,
            "object_position": null,
            "order": null,
            "overflow": null,
            "overflow_x": null,
            "overflow_y": null,
            "padding": null,
            "right": null,
            "top": null,
            "visibility": null,
            "width": null
          }
        },
        "73aad9bfb33a4abbb5ef4cf7bc3fbc8c": {
          "model_module": "@jupyter-widgets/controls",
          "model_name": "DescriptionStyleModel",
          "model_module_version": "1.5.0",
          "state": {
            "_model_module": "@jupyter-widgets/controls",
            "_model_module_version": "1.5.0",
            "_model_name": "DescriptionStyleModel",
            "_view_count": null,
            "_view_module": "@jupyter-widgets/base",
            "_view_module_version": "1.2.0",
            "_view_name": "StyleView",
            "description_width": ""
          }
        }
      }
    }
  },
  "cells": [
    {
      "cell_type": "markdown",
      "metadata": {
        "id": "view-in-github",
        "colab_type": "text"
      },
      "source": [
        "<a href=\"https://colab.research.google.com/github/RodolfoFerro/deep-solar/blob/main/notebooks/Solution_(our_approach).ipynb\" target=\"_parent\"><img src=\"https://colab.research.google.com/assets/colab-badge.svg\" alt=\"Open In Colab\"/></a>"
      ]
    },
    {
      "cell_type": "markdown",
      "source": [
        "# Solution (our approach)\n",
        "\n",
        "## Current pipeline method\n",
        "\n",
        "At present, the raw data are converted to physics units using a calibration table, summed over the sensor segments, and recast as phase space distribution functions. A variety of ad hoc operations are invoked in order to tweak the background subtraction, isolate the physically relevant sub-range in voltage, and remove transients. Then a Gaussian peak fitting is performed. The parameters of the Gaussian map directly to _(n, w, |v|)_. Finally, the ratios between the signal peak values are fed into a table lookup to estimate the flow angle and complete the velocity vector.\n",
        "\n",
        "## Our approach\n",
        "\n",
        "This second model is trained on a compressed representation of data. The raw data corresponding to coordinates in `BGS` format was converted into a single Real Number value using the norm of the vector.\n",
        "\n",
        "> **Notes:**\n",
        "> - **BGSE:** Geocentric Solar Ecliptic system. This has its X-axis pointing from the Earth toward the Sun and its Y-axis is chosen to be in the ecliptic plane pointing towards dusk (thus opposing planetary motion). Its Z-axis is parallel to the ecliptic pole. Relative to an inertial system this system has a yearly rotation.\n",
        "> - **BGSM:** Geocentric Solar Magnetospheric system. This has its X-axis from the Earth to the Sun. The Y-axis is defined to be perpendicular to the Earth's magnetic dipole so that the X-Z plane contains the dipole axis. The positive Z-axis is chosen to be in the same sense as the northern magnetic pole. The difference between the GSM and GSE systems is simply a rotation about the X-axis.\n",
        "\n",
        "This led us to have a 2-column dataset, with the first column corresponding to the mentioned norm of the coordinates, and with the second column corresponding to BF1 values from the Wind dataset."
      ],
      "metadata": {
        "id": "oqlZ8kFJnuP9"
      }
    },
    {
      "cell_type": "code",
      "execution_count": 1,
      "metadata": {
        "colab": {
          "base_uri": "https://localhost:8080/"
        },
        "id": "M6d7XNadnmdl",
        "outputId": "795ac617-c664-4be9-a461-7934254e2b37"
      },
      "outputs": [
        {
          "output_type": "stream",
          "name": "stdout",
          "text": [
            "\u001b[K     |████████████████████████████████| 72 kB 1.3 MB/s \n",
            "\u001b[K     |████████████████████████████████| 633 kB 28.5 MB/s \n",
            "\u001b[?25h  Building wheel for wget (setup.py) ... \u001b[?25l\u001b[?25hdone\n"
          ]
        }
      ],
      "source": [
        "!pip install wget cdflib dtw-python -q"
      ]
    },
    {
      "cell_type": "markdown",
      "source": [
        "> **Notes:** \n",
        "> - Data from [_Wind dataset_](https://cdaweb.gsfc.nasa.gov/pub/data/wind/mfi/mfi_h2/2022/) is available from 1994 (1994-11-13) to 2022 (2022-09-17).\n",
        "> - Data form [_DSCOVR magnetic field dataset_](https://cdaweb.gsfc.nasa.gov/pub/data/dscovr/h0/mag/2022/) is available from 2015 (2015-06-08) to 2022 (2022-09-17).\n",
        "\n",
        "We will start loading some libraries:"
      ],
      "metadata": {
        "id": "3XY4R_m-n84p"
      }
    },
    {
      "cell_type": "code",
      "source": [
        "from datetime import datetime\n",
        "from datetime import timedelta\n",
        "import re\n",
        "\n",
        "import numpy as np\n",
        "import matplotlib.pyplot as plt\n",
        "from tqdm.autonotebook import tqdm\n",
        "import pandas as pd\n",
        "import xarray as xr\n",
        "from dtw import dtw\n",
        "from dtw import rabinerJuangStepPattern\n",
        "import cdflib\n",
        "import wget\n",
        "\n",
        "plt.style.use('seaborn')"
      ],
      "metadata": {
        "colab": {
          "base_uri": "https://localhost:8080/"
        },
        "id": "nUU-msXLn6YY",
        "outputId": "a20168e6-0785-4bfe-b52d-2d517ed99c14"
      },
      "execution_count": 10,
      "outputs": [
        {
          "output_type": "stream",
          "name": "stderr",
          "text": [
            "/usr/local/lib/python3.7/dist-packages/ipykernel_launcher.py:7: TqdmExperimentalWarning: Using `tqdm.autonotebook.tqdm` in notebook mode. Use `tqdm.tqdm` instead to force console mode (e.g. in jupyter console)\n",
            "  import sys\n"
          ]
        }
      ]
    },
    {
      "cell_type": "markdown",
      "source": [
        "We will no proceed to create a date range estimator, in order to dowload all files between that range for training."
      ],
      "metadata": {
        "id": "2c0PeDUixJEa"
      }
    },
    {
      "cell_type": "code",
      "source": [
        "def date_range(start, end):\n",
        "    delta = end - start  # as timedelta\n",
        "    days = [start + timedelta(days=i) for i in range(delta.days + 1)]\n",
        "    return days"
      ],
      "metadata": {
        "id": "EgGveLFkkfxq"
      },
      "execution_count": 4,
      "outputs": []
    },
    {
      "cell_type": "markdown",
      "source": [
        "We download the files:"
      ],
      "metadata": {
        "id": "xK0fztdpxRjo"
      }
    },
    {
      "cell_type": "code",
      "source": [
        "start_date = datetime(2022, 8, 17)\n",
        "end_date = datetime(2022, 9, 17)\n",
        "\n",
        "dates = date_range(start_date, end_date)\n",
        "dates = [date.strftime('%Y%m%d') for date in dates]\n",
        "files = []\n",
        "\n",
        "for date in tqdm(dates):\n",
        "    for v in ['04', '03', '02', '01']:\n",
        "        try:\n",
        "            wind_url = f'https://cdaweb.gsfc.nasa.gov/pub/data/wind/mfi/mfi_h2/2022/wi_h2_mfi_{date}_v{v}.cdf'\n",
        "            wind_filename = wget.download(wind_url)\n",
        "            print('[INFO] File found! ->', wind_filename)\n",
        "            files.append(wind_filename)\n",
        "            break\n",
        "        except:\n",
        "            continue"
      ],
      "metadata": {
        "colab": {
          "base_uri": "https://localhost:8080/",
          "height": 640,
          "referenced_widgets": [
            "1cf44a5eeb094f958f92545fee738b5a",
            "7c50bd517ef947ba91862f06a72b5397",
            "f5233e00530d4b8bb6db2956a535295f",
            "c5607eddfc0448d9992857f9007ceb09",
            "04f6a27acc7b4d8ea4db2438593dde0e",
            "2f102c0f385d416ea33e38bbd8396e4d",
            "fa66d6e9acf347d0b934e02edcd9af8e",
            "7c0cf28ea512416a8654e5f6fea5ae41",
            "1d5967bd1dad4f0c8635c3c76afab97a",
            "4f7f9fe436614b7e8b64bd8bb55d08a1",
            "bd1873c5552346c39a50e26fe7273e92"
          ]
        },
        "id": "vD_pC5vLn_oS",
        "outputId": "20f441f3-0429-40f5-8248-70bebc6c9829"
      },
      "execution_count": 13,
      "outputs": [
        {
          "output_type": "display_data",
          "data": {
            "text/plain": [
              "  0%|          | 0/32 [00:00<?, ?it/s]"
            ],
            "application/vnd.jupyter.widget-view+json": {
              "version_major": 2,
              "version_minor": 0,
              "model_id": "1cf44a5eeb094f958f92545fee738b5a"
            }
          },
          "metadata": {}
        },
        {
          "output_type": "stream",
          "name": "stdout",
          "text": [
            "[INFO] File found! -> wi_h2_mfi_20220817_v04.cdf\n",
            "[INFO] File found! -> wi_h2_mfi_20220818_v04.cdf\n",
            "[INFO] File found! -> wi_h2_mfi_20220819_v04.cdf\n",
            "[INFO] File found! -> wi_h2_mfi_20220820_v04.cdf\n",
            "[INFO] File found! -> wi_h2_mfi_20220821_v04.cdf\n",
            "[INFO] File found! -> wi_h2_mfi_20220822_v04.cdf\n",
            "[INFO] File found! -> wi_h2_mfi_20220823_v04.cdf\n",
            "[INFO] File found! -> wi_h2_mfi_20220824_v04.cdf\n",
            "[INFO] File found! -> wi_h2_mfi_20220825_v04.cdf\n",
            "[INFO] File found! -> wi_h2_mfi_20220826_v04.cdf\n",
            "[INFO] File found! -> wi_h2_mfi_20220827_v04.cdf\n",
            "[INFO] File found! -> wi_h2_mfi_20220828_v04.cdf\n",
            "[INFO] File found! -> wi_h2_mfi_20220829_v04.cdf\n",
            "[INFO] File found! -> wi_h2_mfi_20220830_v04.cdf\n",
            "[INFO] File found! -> wi_h2_mfi_20220831_v04.cdf\n",
            "[INFO] File found! -> wi_h2_mfi_20220901_v04.cdf\n",
            "[INFO] File found! -> wi_h2_mfi_20220902_v04.cdf\n",
            "[INFO] File found! -> wi_h2_mfi_20220903_v04.cdf\n",
            "[INFO] File found! -> wi_h2_mfi_20220904_v04.cdf\n",
            "[INFO] File found! -> wi_h2_mfi_20220905_v04.cdf\n",
            "[INFO] File found! -> wi_h2_mfi_20220906_v04.cdf\n",
            "[INFO] File found! -> wi_h2_mfi_20220907_v04.cdf\n",
            "[INFO] File found! -> wi_h2_mfi_20220908_v03.cdf\n",
            "[INFO] File found! -> wi_h2_mfi_20220909_v03.cdf\n",
            "[INFO] File found! -> wi_h2_mfi_20220910_v03.cdf\n",
            "[INFO] File found! -> wi_h2_mfi_20220911_v03.cdf\n",
            "[INFO] File found! -> wi_h2_mfi_20220912_v03.cdf\n",
            "[INFO] File found! -> wi_h2_mfi_20220913_v03.cdf\n",
            "[INFO] File found! -> wi_h2_mfi_20220914_v03.cdf\n",
            "[INFO] File found! -> wi_h2_mfi_20220915_v03.cdf\n",
            "[INFO] File found! -> wi_h2_mfi_20220916_v03.cdf\n",
            "[INFO] File found! -> wi_h2_mfi_20220917_v03.cdf\n"
          ]
        }
      ]
    },
    {
      "cell_type": "markdown",
      "source": [
        "### Data loading\n",
        "\n",
        "To load data, we will use [`cfdlib`](https://cdflib.readthedocs.io/en/stable/), which will allow us to interact with data as XArray tables.\n",
        "\n",
        "\n",
        "We will iteratively load data and append it to a big table.\n",
        "\n",
        "> **CONSIDER:** If you are running this notebook, this process takes a while."
      ],
      "metadata": {
        "id": "_jjzhsMnxUNH"
      }
    },
    {
      "cell_type": "code",
      "source": [
        "df = pd.DataFrame()\n",
        "\n",
        "for wind_file in tqdm(files):\n",
        "    print(\"[INFO] Processing file ->\", wind_file)\n",
        "    wind_cdf_data = cdflib.cdf_to_xarray(wind_file, to_datetime=True, fillval_to_nan=True)\n",
        "\n",
        "    wind_data = wind_cdf_data['BGSE'].to_pandas()\n",
        "    wind_data.columns = ['x', 'y', 'z']\n",
        "    wind_data['BF1'] = wind_cdf_data['BF1'].to_pandas()\n",
        "    wind_data['norm'] = np.linalg.norm(wind_data[['x', 'y', 'z']].values, axis=1)\n",
        "\n",
        "    df = df.append(wind_data)"
      ],
      "metadata": {
        "id": "aAeWx47toB0Z",
        "colab": {
          "base_uri": "https://localhost:8080/",
          "height": 640,
          "referenced_widgets": [
            "012916e6039d4e4abf346329e1d835b1",
            "4cacfca8108643cda177ba190b1965a7",
            "d74daf999ee34c7e82620bf67e4f2e0a",
            "3d350ddd1b3e4aebab62b6e993150ef5",
            "492899e83bf44c9aae89c3e8eb3d36ee",
            "b23d9f00b4d14e63b46085ca93ede80d",
            "775dd556d08d478288413f2abc15a266",
            "77f4c2a539da4ec9856e33bf63910f26",
            "712daf0381ec426ab98ecb0975929902",
            "8ebb39cd710e40e9851d8518efc9ee9a",
            "73aad9bfb33a4abbb5ef4cf7bc3fbc8c"
          ]
        },
        "outputId": "4a7cb7f0-2fa3-48d3-ff95-0fb033fb077f"
      },
      "execution_count": 14,
      "outputs": [
        {
          "output_type": "display_data",
          "data": {
            "text/plain": [
              "  0%|          | 0/32 [00:00<?, ?it/s]"
            ],
            "application/vnd.jupyter.widget-view+json": {
              "version_major": 2,
              "version_minor": 0,
              "model_id": "012916e6039d4e4abf346329e1d835b1"
            }
          },
          "metadata": {}
        },
        {
          "output_type": "stream",
          "name": "stdout",
          "text": [
            "[INFO] Processing file -> wi_h2_mfi_20220817_v04.cdf\n",
            "[INFO] Processing file -> wi_h2_mfi_20220818_v04.cdf\n",
            "[INFO] Processing file -> wi_h2_mfi_20220819_v04.cdf\n",
            "[INFO] Processing file -> wi_h2_mfi_20220820_v04.cdf\n",
            "[INFO] Processing file -> wi_h2_mfi_20220821_v04.cdf\n",
            "[INFO] Processing file -> wi_h2_mfi_20220822_v04.cdf\n",
            "[INFO] Processing file -> wi_h2_mfi_20220823_v04.cdf\n",
            "[INFO] Processing file -> wi_h2_mfi_20220824_v04.cdf\n",
            "[INFO] Processing file -> wi_h2_mfi_20220825_v04.cdf\n",
            "[INFO] Processing file -> wi_h2_mfi_20220826_v04.cdf\n",
            "[INFO] Processing file -> wi_h2_mfi_20220827_v04.cdf\n",
            "[INFO] Processing file -> wi_h2_mfi_20220828_v04.cdf\n",
            "[INFO] Processing file -> wi_h2_mfi_20220829_v04.cdf\n",
            "[INFO] Processing file -> wi_h2_mfi_20220830_v04.cdf\n",
            "[INFO] Processing file -> wi_h2_mfi_20220831_v04.cdf\n",
            "[INFO] Processing file -> wi_h2_mfi_20220901_v04.cdf\n",
            "[INFO] Processing file -> wi_h2_mfi_20220902_v04.cdf\n",
            "[INFO] Processing file -> wi_h2_mfi_20220903_v04.cdf\n",
            "[INFO] Processing file -> wi_h2_mfi_20220904_v04.cdf\n",
            "[INFO] Processing file -> wi_h2_mfi_20220905_v04.cdf\n",
            "[INFO] Processing file -> wi_h2_mfi_20220906_v04.cdf\n",
            "[INFO] Processing file -> wi_h2_mfi_20220907_v04.cdf\n",
            "[INFO] Processing file -> wi_h2_mfi_20220908_v03.cdf\n",
            "[INFO] Processing file -> wi_h2_mfi_20220909_v03.cdf\n",
            "[INFO] Processing file -> wi_h2_mfi_20220910_v03.cdf\n",
            "[INFO] Processing file -> wi_h2_mfi_20220911_v03.cdf\n",
            "[INFO] Processing file -> wi_h2_mfi_20220912_v03.cdf\n",
            "[INFO] Processing file -> wi_h2_mfi_20220913_v03.cdf\n",
            "[INFO] Processing file -> wi_h2_mfi_20220914_v03.cdf\n",
            "[INFO] Processing file -> wi_h2_mfi_20220915_v03.cdf\n",
            "[INFO] Processing file -> wi_h2_mfi_20220916_v03.cdf\n",
            "[INFO] Processing file -> wi_h2_mfi_20220917_v03.cdf\n"
          ]
        }
      ]
    },
    {
      "cell_type": "markdown",
      "source": [
        "As we can see, for a month of information, we have ~29.7 million rows."
      ],
      "metadata": {
        "id": "T_GzzsjixtIS"
      }
    },
    {
      "cell_type": "code",
      "source": [
        "len(df)"
      ],
      "metadata": {
        "colab": {
          "base_uri": "https://localhost:8080/"
        },
        "id": "2goQzeK3pHqv",
        "outputId": "6dd60708-5a54-4ccd-e867-e74ff17d853f"
      },
      "execution_count": 16,
      "outputs": [
        {
          "output_type": "execute_result",
          "data": {
            "text/plain": [
              "29732420"
            ]
          },
          "metadata": {},
          "execution_count": 16
        }
      ]
    },
    {
      "cell_type": "markdown",
      "source": [
        "### Data preparation\n",
        "\n",
        "We will now proceed to take 2 of the features, a representation of `BGSE` and `BF1` and scale the data, prior to train a model."
      ],
      "metadata": {
        "id": "eUE0rPEZx5sr"
      }
    },
    {
      "cell_type": "code",
      "source": [
        "from sklearn.preprocessing import MinMaxScaler\n",
        "\n",
        "\n",
        "features = df[['norm', 'BF1']]\n",
        "scaler = MinMaxScaler()\n",
        "scaler.fit(features)\n",
        "scaled_features = scaler.transform(features)"
      ],
      "metadata": {
        "id": "BlSMtefCqp-I"
      },
      "execution_count": 17,
      "outputs": []
    },
    {
      "cell_type": "code",
      "source": [
        "scaled_features"
      ],
      "metadata": {
        "id": "pUbP8TlNq_qk",
        "colab": {
          "base_uri": "https://localhost:8080/"
        },
        "outputId": "98956a24-a90c-47c6-b073-9fe6ef1da415"
      },
      "execution_count": 18,
      "outputs": [
        {
          "output_type": "execute_result",
          "data": {
            "text/plain": [
              "array([[0.3837791 , 0.3837791 ],\n",
              "       [0.38262427, 0.38262424],\n",
              "       [0.3814674 , 0.3814674 ],\n",
              "       ...,\n",
              "       [0.54184467, 0.54184467],\n",
              "       [0.54116344, 0.54116344],\n",
              "       [0.5404409 , 0.5404409 ]], dtype=float32)"
            ]
          },
          "metadata": {},
          "execution_count": 18
        }
      ]
    },
    {
      "cell_type": "markdown",
      "source": [
        "### Model training\n",
        "\n",
        "We proceed to create and train an autoencoder.\n",
        "\n",
        "> **CONSIDER:** If you are running this notebook, this process takes a while."
      ],
      "metadata": {
        "id": "Ec9Gp8cww4Xk"
      }
    },
    {
      "cell_type": "code",
      "source": [
        "# Model and performance\n",
        "import tensorflow as tf\n",
        "from sklearn.model_selection import train_test_split\n",
        "from sklearn.metrics import classification_report\n",
        "\n",
        "\n",
        "data_length = 2\n",
        "\n",
        "w_train, w_test = train_test_split(scaled_features, test_size=0.2, random_state=42)\n",
        "\n",
        "input = tf.keras.layers.Input(shape=(data_length,))\n",
        "\n",
        "# Encoder layers\n",
        "encoder = tf.keras.Sequential([\n",
        "  tf.keras.layers.Dense(16, activation='relu'),\n",
        "  tf.keras.layers.Dense(8, activation='relu'),\n",
        "  tf.keras.layers.Dense(4, activation='relu')])(input)\n",
        "\n",
        "# Decoder layers\n",
        "decoder = tf.keras.Sequential([\n",
        "      tf.keras.layers.Dense(8, activation='relu'),\n",
        "      tf.keras.layers.Dense(16, activation='relu'),\n",
        "      tf.keras.layers.Dense(data_length, activation='sigmoid')])(encoder)\n",
        "\n",
        "# Create the autoencoder\n",
        "autoencoder = tf.keras.Model(inputs=input, outputs=decoder)"
      ],
      "metadata": {
        "id": "Ykk8kDuxoeFa"
      },
      "execution_count": 19,
      "outputs": []
    },
    {
      "cell_type": "markdown",
      "source": [
        "Once the model is instantiated, we proceed to compile it and train it for 20 epochs (100 epochs take around 18 hours to train).\n",
        "\n",
        "> **CONSIDER:** If you are running this notebook, this process takes a while."
      ],
      "metadata": {
        "id": "u9nFSTYJyXRu"
      }
    },
    {
      "cell_type": "code",
      "source": [
        "# Compile the autoencoder\n",
        "autoencoder.compile(optimizer='adam', loss='msle',  metrics=['mse'])\n",
        "\n",
        "# Fit the autoencoder\n",
        "history = autoencoder.fit(\n",
        "    w_train,\n",
        "    w_train,\n",
        "    epochs=20,\n",
        "    batch_size=64,\n",
        "    validation_data=(w_test, w_test))"
      ],
      "metadata": {
        "id": "oyTnbY3Ap_No",
        "colab": {
          "base_uri": "https://localhost:8080/"
        },
        "outputId": "305daeba-f2ea-41bf-917e-32dbc85ddbad"
      },
      "execution_count": 21,
      "outputs": [
        {
          "output_type": "stream",
          "name": "stdout",
          "text": [
            "Epoch 1/20\n",
            "371656/371656 [==============================] - 708s 2ms/step - loss: 1.5795e-06 - mse: 2.7071e-06 - val_loss: 1.1704e-06 - val_mse: 1.9254e-06\n",
            "Epoch 2/20\n",
            "371656/371656 [==============================] - 604s 2ms/step - loss: 9.5320e-07 - mse: 1.6656e-06 - val_loss: 2.3232e-07 - val_mse: 4.3890e-07\n",
            "Epoch 3/20\n",
            "371656/371656 [==============================] - 564s 2ms/step - loss: 1.6904e-07 - mse: 3.5211e-07 - val_loss: 8.9965e-08 - val_mse: 1.9326e-07\n",
            "Epoch 4/20\n",
            "371656/371656 [==============================] - 565s 2ms/step - loss: 1.4246e-07 - mse: 2.9538e-07 - val_loss: 9.2353e-08 - val_mse: 1.9943e-07\n",
            "Epoch 5/20\n",
            "371656/371656 [==============================] - 566s 2ms/step - loss: 1.1309e-07 - mse: 2.2157e-07 - val_loss: 8.6929e-08 - val_mse: 1.5410e-07\n",
            "Epoch 6/20\n",
            "371656/371656 [==============================] - 559s 2ms/step - loss: 7.6772e-08 - mse: 1.5246e-07 - val_loss: 1.9313e-08 - val_mse: 4.7541e-08\n",
            "Epoch 7/20\n",
            "371656/371656 [==============================] - 590s 2ms/step - loss: 5.4144e-08 - mse: 1.1215e-07 - val_loss: 2.2390e-08 - val_mse: 4.9373e-08\n",
            "Epoch 8/20\n",
            "371656/371656 [==============================] - 580s 2ms/step - loss: 4.1905e-08 - mse: 8.8687e-08 - val_loss: 1.6356e-08 - val_mse: 4.0847e-08\n",
            "Epoch 9/20\n",
            "371656/371656 [==============================] - 582s 2ms/step - loss: 3.2743e-08 - mse: 6.9766e-08 - val_loss: 1.4233e-07 - val_mse: 3.1378e-07\n",
            "Epoch 10/20\n",
            "371656/371656 [==============================] - 563s 2ms/step - loss: 2.8112e-08 - mse: 5.9806e-08 - val_loss: 1.1579e-08 - val_mse: 2.7995e-08\n",
            "Epoch 11/20\n",
            "371656/371656 [==============================] - 569s 2ms/step - loss: 2.3667e-08 - mse: 4.9281e-08 - val_loss: 5.2046e-08 - val_mse: 1.1264e-07\n",
            "Epoch 12/20\n",
            "371656/371656 [==============================] - 576s 2ms/step - loss: 2.1768e-08 - mse: 4.5630e-08 - val_loss: 9.4670e-09 - val_mse: 1.8455e-08\n",
            "Epoch 13/20\n",
            "371656/371656 [==============================] - 591s 2ms/step - loss: 1.9438e-08 - mse: 4.0885e-08 - val_loss: 4.9861e-09 - val_mse: 1.2545e-08\n",
            "Epoch 14/20\n",
            "371656/371656 [==============================] - 583s 2ms/step - loss: 1.8230e-08 - mse: 3.8529e-08 - val_loss: 1.8467e-08 - val_mse: 3.5905e-08\n",
            "Epoch 15/20\n",
            "371656/371656 [==============================] - 584s 2ms/step - loss: 1.7647e-08 - mse: 3.7331e-08 - val_loss: 9.0710e-09 - val_mse: 1.7986e-08\n",
            "Epoch 16/20\n",
            "371656/371656 [==============================] - 604s 2ms/step - loss: 1.7184e-08 - mse: 3.6384e-08 - val_loss: 9.9508e-09 - val_mse: 2.1198e-08\n",
            "Epoch 17/20\n",
            "371656/371656 [==============================] - 594s 2ms/step - loss: 1.6932e-08 - mse: 3.5756e-08 - val_loss: 6.0890e-09 - val_mse: 1.3440e-08\n",
            "Epoch 18/20\n",
            "371656/371656 [==============================] - 596s 2ms/step - loss: 1.6757e-08 - mse: 3.5507e-08 - val_loss: 4.4052e-09 - val_mse: 9.7207e-09\n",
            "Epoch 19/20\n",
            "371656/371656 [==============================] - 607s 2ms/step - loss: 1.6612e-08 - mse: 3.5301e-08 - val_loss: 1.1089e-08 - val_mse: 2.2482e-08\n",
            "Epoch 20/20\n",
            "371656/371656 [==============================] - 582s 2ms/step - loss: 1.6370e-08 - mse: 3.4801e-08 - val_loss: 2.7934e-08 - val_mse: 5.7263e-08\n"
          ]
        }
      ]
    },
    {
      "cell_type": "markdown",
      "source": [
        "Let's see the training history:"
      ],
      "metadata": {
        "id": "Nx4d4QzDyqCE"
      }
    },
    {
      "cell_type": "code",
      "source": [
        "from plotly.subplots import make_subplots\n",
        "import plotly.graph_objects as go\n",
        "\n",
        "\n",
        "x = np.arange(len(history.history['loss']))\n",
        "\n",
        "fig = make_subplots(rows=1, cols=1)\n",
        "fig.append_trace(go.Scatter(x=x, y=history.history['loss'], name='loss'), row=1, col=1)\n",
        "fig.append_trace(go.Scatter(x=x, y=history.history['val_loss'], name='val_loss'), row=1, col=1)\n",
        "fig.update_layout(xaxis_title=\"Epoch\", yaxis_title=\"Loss\")\n",
        "fig.show()"
      ],
      "metadata": {
        "colab": {
          "base_uri": "https://localhost:8080/",
          "height": 542
        },
        "id": "JkLWpjbKy9En",
        "outputId": "a07cf7d9-ed1f-40f5-9952-c31fe496c26b"
      },
      "execution_count": 22,
      "outputs": [
        {
          "output_type": "display_data",
          "data": {
            "text/html": [
              "<html>\n",
              "<head><meta charset=\"utf-8\" /></head>\n",
              "<body>\n",
              "    <div>            <script src=\"https://cdnjs.cloudflare.com/ajax/libs/mathjax/2.7.5/MathJax.js?config=TeX-AMS-MML_SVG\"></script><script type=\"text/javascript\">if (window.MathJax) {MathJax.Hub.Config({SVG: {font: \"STIX-Web\"}});}</script>                <script type=\"text/javascript\">window.PlotlyConfig = {MathJaxConfig: 'local'};</script>\n",
              "        <script src=\"https://cdn.plot.ly/plotly-2.8.3.min.js\"></script>                <div id=\"5071819f-040d-4d65-a517-9320bbac70b7\" class=\"plotly-graph-div\" style=\"height:525px; width:100%;\"></div>            <script type=\"text/javascript\">                                    window.PLOTLYENV=window.PLOTLYENV || {};                                    if (document.getElementById(\"5071819f-040d-4d65-a517-9320bbac70b7\")) {                    Plotly.newPlot(                        \"5071819f-040d-4d65-a517-9320bbac70b7\",                        [{\"name\":\"loss\",\"x\":[0,1,2,3,4,5,6,7,8,9,10,11,12,13,14,15,16,17,18,19],\"y\":[1.5794958017067984e-06,9.532039939585957e-07,1.6904071742374072e-07,1.424566278274142e-07,1.1308772229767783e-07,7.677236624203942e-08,5.414366555100969e-08,4.190508207102539e-08,3.274314153145497e-08,2.811156640802892e-08,2.3667405812943798e-08,2.176792079922052e-08,1.943847038887725e-08,1.8229780351930458e-08,1.76469470147822e-08,1.718365183478454e-08,1.693210727182759e-08,1.6757043752591017e-08,1.6612460740361712e-08,1.6370353961292494e-08],\"type\":\"scatter\",\"xaxis\":\"x\",\"yaxis\":\"y\"},{\"name\":\"val_loss\",\"x\":[0,1,2,3,4,5,6,7,8,9,10,11,12,13,14,15,16,17,18,19],\"y\":[1.1704109965648968e-06,2.3232421142438398e-07,8.996457268040103e-08,9.235260733930772e-08,8.692856567904528e-08,1.931288728940217e-08,2.23896048368033e-08,1.6356462850808384e-08,1.423347271156672e-07,1.157859763623037e-08,5.2045876941519964e-08,9.466994299600628e-09,4.986056012512563e-09,1.8467140705524798e-08,9.070988404857872e-09,9.950788637524965e-09,6.088996862274598e-09,4.405232179038876e-09,1.108870861799005e-08,2.7934238033822112e-08],\"type\":\"scatter\",\"xaxis\":\"x\",\"yaxis\":\"y\"}],                        {\"template\":{\"data\":{\"bar\":[{\"error_x\":{\"color\":\"#2a3f5f\"},\"error_y\":{\"color\":\"#2a3f5f\"},\"marker\":{\"line\":{\"color\":\"#E5ECF6\",\"width\":0.5},\"pattern\":{\"fillmode\":\"overlay\",\"size\":10,\"solidity\":0.2}},\"type\":\"bar\"}],\"barpolar\":[{\"marker\":{\"line\":{\"color\":\"#E5ECF6\",\"width\":0.5},\"pattern\":{\"fillmode\":\"overlay\",\"size\":10,\"solidity\":0.2}},\"type\":\"barpolar\"}],\"carpet\":[{\"aaxis\":{\"endlinecolor\":\"#2a3f5f\",\"gridcolor\":\"white\",\"linecolor\":\"white\",\"minorgridcolor\":\"white\",\"startlinecolor\":\"#2a3f5f\"},\"baxis\":{\"endlinecolor\":\"#2a3f5f\",\"gridcolor\":\"white\",\"linecolor\":\"white\",\"minorgridcolor\":\"white\",\"startlinecolor\":\"#2a3f5f\"},\"type\":\"carpet\"}],\"choropleth\":[{\"colorbar\":{\"outlinewidth\":0,\"ticks\":\"\"},\"type\":\"choropleth\"}],\"contour\":[{\"colorbar\":{\"outlinewidth\":0,\"ticks\":\"\"},\"colorscale\":[[0.0,\"#0d0887\"],[0.1111111111111111,\"#46039f\"],[0.2222222222222222,\"#7201a8\"],[0.3333333333333333,\"#9c179e\"],[0.4444444444444444,\"#bd3786\"],[0.5555555555555556,\"#d8576b\"],[0.6666666666666666,\"#ed7953\"],[0.7777777777777778,\"#fb9f3a\"],[0.8888888888888888,\"#fdca26\"],[1.0,\"#f0f921\"]],\"type\":\"contour\"}],\"contourcarpet\":[{\"colorbar\":{\"outlinewidth\":0,\"ticks\":\"\"},\"type\":\"contourcarpet\"}],\"heatmap\":[{\"colorbar\":{\"outlinewidth\":0,\"ticks\":\"\"},\"colorscale\":[[0.0,\"#0d0887\"],[0.1111111111111111,\"#46039f\"],[0.2222222222222222,\"#7201a8\"],[0.3333333333333333,\"#9c179e\"],[0.4444444444444444,\"#bd3786\"],[0.5555555555555556,\"#d8576b\"],[0.6666666666666666,\"#ed7953\"],[0.7777777777777778,\"#fb9f3a\"],[0.8888888888888888,\"#fdca26\"],[1.0,\"#f0f921\"]],\"type\":\"heatmap\"}],\"heatmapgl\":[{\"colorbar\":{\"outlinewidth\":0,\"ticks\":\"\"},\"colorscale\":[[0.0,\"#0d0887\"],[0.1111111111111111,\"#46039f\"],[0.2222222222222222,\"#7201a8\"],[0.3333333333333333,\"#9c179e\"],[0.4444444444444444,\"#bd3786\"],[0.5555555555555556,\"#d8576b\"],[0.6666666666666666,\"#ed7953\"],[0.7777777777777778,\"#fb9f3a\"],[0.8888888888888888,\"#fdca26\"],[1.0,\"#f0f921\"]],\"type\":\"heatmapgl\"}],\"histogram\":[{\"marker\":{\"pattern\":{\"fillmode\":\"overlay\",\"size\":10,\"solidity\":0.2}},\"type\":\"histogram\"}],\"histogram2d\":[{\"colorbar\":{\"outlinewidth\":0,\"ticks\":\"\"},\"colorscale\":[[0.0,\"#0d0887\"],[0.1111111111111111,\"#46039f\"],[0.2222222222222222,\"#7201a8\"],[0.3333333333333333,\"#9c179e\"],[0.4444444444444444,\"#bd3786\"],[0.5555555555555556,\"#d8576b\"],[0.6666666666666666,\"#ed7953\"],[0.7777777777777778,\"#fb9f3a\"],[0.8888888888888888,\"#fdca26\"],[1.0,\"#f0f921\"]],\"type\":\"histogram2d\"}],\"histogram2dcontour\":[{\"colorbar\":{\"outlinewidth\":0,\"ticks\":\"\"},\"colorscale\":[[0.0,\"#0d0887\"],[0.1111111111111111,\"#46039f\"],[0.2222222222222222,\"#7201a8\"],[0.3333333333333333,\"#9c179e\"],[0.4444444444444444,\"#bd3786\"],[0.5555555555555556,\"#d8576b\"],[0.6666666666666666,\"#ed7953\"],[0.7777777777777778,\"#fb9f3a\"],[0.8888888888888888,\"#fdca26\"],[1.0,\"#f0f921\"]],\"type\":\"histogram2dcontour\"}],\"mesh3d\":[{\"colorbar\":{\"outlinewidth\":0,\"ticks\":\"\"},\"type\":\"mesh3d\"}],\"parcoords\":[{\"line\":{\"colorbar\":{\"outlinewidth\":0,\"ticks\":\"\"}},\"type\":\"parcoords\"}],\"pie\":[{\"automargin\":true,\"type\":\"pie\"}],\"scatter\":[{\"marker\":{\"colorbar\":{\"outlinewidth\":0,\"ticks\":\"\"}},\"type\":\"scatter\"}],\"scatter3d\":[{\"line\":{\"colorbar\":{\"outlinewidth\":0,\"ticks\":\"\"}},\"marker\":{\"colorbar\":{\"outlinewidth\":0,\"ticks\":\"\"}},\"type\":\"scatter3d\"}],\"scattercarpet\":[{\"marker\":{\"colorbar\":{\"outlinewidth\":0,\"ticks\":\"\"}},\"type\":\"scattercarpet\"}],\"scattergeo\":[{\"marker\":{\"colorbar\":{\"outlinewidth\":0,\"ticks\":\"\"}},\"type\":\"scattergeo\"}],\"scattergl\":[{\"marker\":{\"colorbar\":{\"outlinewidth\":0,\"ticks\":\"\"}},\"type\":\"scattergl\"}],\"scattermapbox\":[{\"marker\":{\"colorbar\":{\"outlinewidth\":0,\"ticks\":\"\"}},\"type\":\"scattermapbox\"}],\"scatterpolar\":[{\"marker\":{\"colorbar\":{\"outlinewidth\":0,\"ticks\":\"\"}},\"type\":\"scatterpolar\"}],\"scatterpolargl\":[{\"marker\":{\"colorbar\":{\"outlinewidth\":0,\"ticks\":\"\"}},\"type\":\"scatterpolargl\"}],\"scatterternary\":[{\"marker\":{\"colorbar\":{\"outlinewidth\":0,\"ticks\":\"\"}},\"type\":\"scatterternary\"}],\"surface\":[{\"colorbar\":{\"outlinewidth\":0,\"ticks\":\"\"},\"colorscale\":[[0.0,\"#0d0887\"],[0.1111111111111111,\"#46039f\"],[0.2222222222222222,\"#7201a8\"],[0.3333333333333333,\"#9c179e\"],[0.4444444444444444,\"#bd3786\"],[0.5555555555555556,\"#d8576b\"],[0.6666666666666666,\"#ed7953\"],[0.7777777777777778,\"#fb9f3a\"],[0.8888888888888888,\"#fdca26\"],[1.0,\"#f0f921\"]],\"type\":\"surface\"}],\"table\":[{\"cells\":{\"fill\":{\"color\":\"#EBF0F8\"},\"line\":{\"color\":\"white\"}},\"header\":{\"fill\":{\"color\":\"#C8D4E3\"},\"line\":{\"color\":\"white\"}},\"type\":\"table\"}]},\"layout\":{\"annotationdefaults\":{\"arrowcolor\":\"#2a3f5f\",\"arrowhead\":0,\"arrowwidth\":1},\"autotypenumbers\":\"strict\",\"coloraxis\":{\"colorbar\":{\"outlinewidth\":0,\"ticks\":\"\"}},\"colorscale\":{\"diverging\":[[0,\"#8e0152\"],[0.1,\"#c51b7d\"],[0.2,\"#de77ae\"],[0.3,\"#f1b6da\"],[0.4,\"#fde0ef\"],[0.5,\"#f7f7f7\"],[0.6,\"#e6f5d0\"],[0.7,\"#b8e186\"],[0.8,\"#7fbc41\"],[0.9,\"#4d9221\"],[1,\"#276419\"]],\"sequential\":[[0.0,\"#0d0887\"],[0.1111111111111111,\"#46039f\"],[0.2222222222222222,\"#7201a8\"],[0.3333333333333333,\"#9c179e\"],[0.4444444444444444,\"#bd3786\"],[0.5555555555555556,\"#d8576b\"],[0.6666666666666666,\"#ed7953\"],[0.7777777777777778,\"#fb9f3a\"],[0.8888888888888888,\"#fdca26\"],[1.0,\"#f0f921\"]],\"sequentialminus\":[[0.0,\"#0d0887\"],[0.1111111111111111,\"#46039f\"],[0.2222222222222222,\"#7201a8\"],[0.3333333333333333,\"#9c179e\"],[0.4444444444444444,\"#bd3786\"],[0.5555555555555556,\"#d8576b\"],[0.6666666666666666,\"#ed7953\"],[0.7777777777777778,\"#fb9f3a\"],[0.8888888888888888,\"#fdca26\"],[1.0,\"#f0f921\"]]},\"colorway\":[\"#636efa\",\"#EF553B\",\"#00cc96\",\"#ab63fa\",\"#FFA15A\",\"#19d3f3\",\"#FF6692\",\"#B6E880\",\"#FF97FF\",\"#FECB52\"],\"font\":{\"color\":\"#2a3f5f\"},\"geo\":{\"bgcolor\":\"white\",\"lakecolor\":\"white\",\"landcolor\":\"#E5ECF6\",\"showlakes\":true,\"showland\":true,\"subunitcolor\":\"white\"},\"hoverlabel\":{\"align\":\"left\"},\"hovermode\":\"closest\",\"mapbox\":{\"style\":\"light\"},\"paper_bgcolor\":\"white\",\"plot_bgcolor\":\"#E5ECF6\",\"polar\":{\"angularaxis\":{\"gridcolor\":\"white\",\"linecolor\":\"white\",\"ticks\":\"\"},\"bgcolor\":\"#E5ECF6\",\"radialaxis\":{\"gridcolor\":\"white\",\"linecolor\":\"white\",\"ticks\":\"\"}},\"scene\":{\"xaxis\":{\"backgroundcolor\":\"#E5ECF6\",\"gridcolor\":\"white\",\"gridwidth\":2,\"linecolor\":\"white\",\"showbackground\":true,\"ticks\":\"\",\"zerolinecolor\":\"white\"},\"yaxis\":{\"backgroundcolor\":\"#E5ECF6\",\"gridcolor\":\"white\",\"gridwidth\":2,\"linecolor\":\"white\",\"showbackground\":true,\"ticks\":\"\",\"zerolinecolor\":\"white\"},\"zaxis\":{\"backgroundcolor\":\"#E5ECF6\",\"gridcolor\":\"white\",\"gridwidth\":2,\"linecolor\":\"white\",\"showbackground\":true,\"ticks\":\"\",\"zerolinecolor\":\"white\"}},\"shapedefaults\":{\"line\":{\"color\":\"#2a3f5f\"}},\"ternary\":{\"aaxis\":{\"gridcolor\":\"white\",\"linecolor\":\"white\",\"ticks\":\"\"},\"baxis\":{\"gridcolor\":\"white\",\"linecolor\":\"white\",\"ticks\":\"\"},\"bgcolor\":\"#E5ECF6\",\"caxis\":{\"gridcolor\":\"white\",\"linecolor\":\"white\",\"ticks\":\"\"}},\"title\":{\"x\":0.05},\"xaxis\":{\"automargin\":true,\"gridcolor\":\"white\",\"linecolor\":\"white\",\"ticks\":\"\",\"title\":{\"standoff\":15},\"zerolinecolor\":\"white\",\"zerolinewidth\":2},\"yaxis\":{\"automargin\":true,\"gridcolor\":\"white\",\"linecolor\":\"white\",\"ticks\":\"\",\"title\":{\"standoff\":15},\"zerolinecolor\":\"white\",\"zerolinewidth\":2}}},\"xaxis\":{\"anchor\":\"y\",\"domain\":[0.0,1.0],\"title\":{\"text\":\"Epoch\"}},\"yaxis\":{\"anchor\":\"x\",\"domain\":[0.0,1.0],\"title\":{\"text\":\"Loss\"}}},                        {\"responsive\": true}                    ).then(function(){\n",
              "                            \n",
              "var gd = document.getElementById('5071819f-040d-4d65-a517-9320bbac70b7');\n",
              "var x = new MutationObserver(function (mutations, observer) {{\n",
              "        var display = window.getComputedStyle(gd).display;\n",
              "        if (!display || display === 'none') {{\n",
              "            console.log([gd, 'removed!']);\n",
              "            Plotly.purge(gd);\n",
              "            observer.disconnect();\n",
              "        }}\n",
              "}});\n",
              "\n",
              "// Listen for the removal of the full notebook cells\n",
              "var notebookContainer = gd.closest('#notebook-container');\n",
              "if (notebookContainer) {{\n",
              "    x.observe(notebookContainer, {childList: true});\n",
              "}}\n",
              "\n",
              "// Listen for the clearing of the current output cell\n",
              "var outputEl = gd.closest('.output');\n",
              "if (outputEl) {{\n",
              "    x.observe(outputEl, {childList: true});\n",
              "}}\n",
              "\n",
              "                        })                };                            </script>        </div>\n",
              "</body>\n",
              "</html>"
            ]
          },
          "metadata": {}
        }
      ]
    },
    {
      "cell_type": "markdown",
      "source": [
        "### Saving the model\n",
        "\n",
        "Once the model is trained, we proceed to save it, so we can export it and use it in our application."
      ],
      "metadata": {
        "id": "wxi_ezx1ytXA"
      }
    },
    {
      "cell_type": "code",
      "source": [
        "# Serialize model tomodels JSON:\n",
        "json_autoencoder = autoencoder.to_json()\n",
        "with open('general_model.json', 'w') as json_file:\n",
        "    json_file.write(json_autoencoder)\n",
        "\n",
        "# Serialize weights to HDF5 (h5py needed):\n",
        "autoencoder.save_weights('general_model.h5')\n",
        "print('[INFO] Model saved to disk.')"
      ],
      "metadata": {
        "colab": {
          "base_uri": "https://localhost:8080/"
        },
        "id": "Jj1e6S-_wDSJ",
        "outputId": "0ee4ba3d-164b-4c04-e885-bbf076ba3198"
      },
      "execution_count": 23,
      "outputs": [
        {
          "output_type": "stream",
          "name": "stdout",
          "text": [
            "[INFO] Model saved to disk.\n"
          ]
        }
      ]
    },
    {
      "cell_type": "markdown",
      "source": [
        "## Model testing"
      ],
      "metadata": {
        "id": "8w5-MJdNz7OM"
      }
    },
    {
      "cell_type": "code",
      "source": [
        "def find_threshold(model, x_train_scaled):\n",
        "    reconstructions = model.predict(x_train_scaled)\n",
        "    # provides losses of individual instances\n",
        "    reconstruction_errors = tf.keras.losses.msle(reconstructions, x_train_scaled)\n",
        "    # threshold for anomaly scores\n",
        "    threshold = np.mean(reconstruction_errors.numpy()) \\\n",
        "        + 3 * np.std(reconstruction_errors.numpy())\n",
        "    return threshold\n",
        "\n",
        "def get_predictions(model, x_test_scaled, threshold):\n",
        "    predictions = model.predict(x_test_scaled)\n",
        "    # provides losses of individual instances\n",
        "    errors = tf.keras.losses.msle(predictions, x_test_scaled)\n",
        "    # 0 = anomaly, 1 = normal\n",
        "    anomaly_mask = pd.Series(errors) > threshold\n",
        "    preds = anomaly_mask.map(lambda x: 1 if x == True else 0)\n",
        "    return errors, preds"
      ],
      "metadata": {
        "id": "FlGX9mkltcrK"
      },
      "execution_count": 24,
      "outputs": []
    },
    {
      "cell_type": "code",
      "source": [
        "threshold = find_threshold(autoencoder, w_train)\n",
        "print(f\"Threshold: {threshold}\")"
      ],
      "metadata": {
        "id": "e1d_UcPKtpLe",
        "colab": {
          "base_uri": "https://localhost:8080/"
        },
        "outputId": "fbad9b95-b0b8-41da-841c-f6a4e8007fa2"
      },
      "execution_count": 25,
      "outputs": [
        {
          "output_type": "stream",
          "name": "stdout",
          "text": [
            "Threshold: 4.019012376232922e-07\n"
          ]
        }
      ]
    },
    {
      "cell_type": "code",
      "source": [
        "errors, predictions = get_predictions(autoencoder, w_test, threshold)"
      ],
      "metadata": {
        "id": "VBFGscD66QdR"
      },
      "execution_count": 26,
      "outputs": []
    },
    {
      "cell_type": "code",
      "source": [
        "reconstructions = autoencoder.predict(w_train)\n",
        "reconstruction_errors = tf.keras.losses.msle(reconstructions, w_train)"
      ],
      "metadata": {
        "id": "7G-9GaSxIvlX"
      },
      "execution_count": 27,
      "outputs": []
    },
    {
      "cell_type": "code",
      "source": [
        "w_train[0], reconstructions[0], reconstruction_errors[0].numpy()"
      ],
      "metadata": {
        "id": "Z1os2P-wJ82P",
        "colab": {
          "base_uri": "https://localhost:8080/"
        },
        "outputId": "b0363f1a-fd21-4217-edb7-5e14d73f317d"
      },
      "execution_count": 28,
      "outputs": [
        {
          "output_type": "execute_result",
          "data": {
            "text/plain": [
              "(array([0.23722923, 0.23722923], dtype=float32),\n",
              " array([0.23720694, 0.23720443], dtype=float32),\n",
              " 3.631213e-10)"
            ]
          },
          "metadata": {},
          "execution_count": 28
        }
      ]
    },
    {
      "cell_type": "code",
      "source": [
        "from plotly.subplots import make_subplots\n",
        "import plotly.graph_objects as go\n",
        "import numpy as np\n",
        "\n",
        "x = np.arange(50, 450)\n",
        "\n",
        "fig = make_subplots(rows=2, cols=1)\n",
        "fig.append_trace(go.Scatter(x=x, y=w_train[50:450, 1], name='Original signal', line=dict(color='royalblue', width=4, dash='dot')), row=1, col=1)\n",
        "fig.append_trace(go.Scatter(x=x, y=reconstructions[50:450, 1], name='Reconstructed signal'), row=1, col=1)\n",
        "fig.append_trace(go.Scatter(x=x, y=reconstruction_errors[50:450], name='Errors'), row=2, col=1)\n",
        "fig.add_hline(y=threshold, row=2, col=1)\n",
        "fig.show()"
      ],
      "metadata": {
        "id": "JN0Kb0hZLnKh",
        "colab": {
          "base_uri": "https://localhost:8080/",
          "height": 542
        },
        "outputId": "0374d0df-b3ac-4176-b74f-9ee57d827030"
      },
      "execution_count": 31,
      "outputs": [
        {
          "output_type": "display_data",
          "data": {
            "text/html": [
              "<html>\n",
              "<head><meta charset=\"utf-8\" /></head>\n",
              "<body>\n",
              "    <div>            <script src=\"https://cdnjs.cloudflare.com/ajax/libs/mathjax/2.7.5/MathJax.js?config=TeX-AMS-MML_SVG\"></script><script type=\"text/javascript\">if (window.MathJax) {MathJax.Hub.Config({SVG: {font: \"STIX-Web\"}});}</script>                <script type=\"text/javascript\">window.PlotlyConfig = {MathJaxConfig: 'local'};</script>\n",
              "        <script src=\"https://cdn.plot.ly/plotly-2.8.3.min.js\"></script>                <div id=\"4bf83a09-68cc-4ce6-9ba2-3f1976f7fda4\" class=\"plotly-graph-div\" style=\"height:525px; width:100%;\"></div>            <script type=\"text/javascript\">                                    window.PLOTLYENV=window.PLOTLYENV || {};                                    if (document.getElementById(\"4bf83a09-68cc-4ce6-9ba2-3f1976f7fda4\")) {                    Plotly.newPlot(                        \"4bf83a09-68cc-4ce6-9ba2-3f1976f7fda4\",                        [{\"line\":{\"color\":\"royalblue\",\"dash\":\"dot\",\"width\":4},\"name\":\"Original signal\",\"x\":[50,51,52,53,54,55,56,57,58,59,60,61,62,63,64,65,66,67,68,69,70,71,72,73,74,75,76,77,78,79,80,81,82,83,84,85,86,87,88,89,90,91,92,93,94,95,96,97,98,99,100,101,102,103,104,105,106,107,108,109,110,111,112,113,114,115,116,117,118,119,120,121,122,123,124,125,126,127,128,129,130,131,132,133,134,135,136,137,138,139,140,141,142,143,144,145,146,147,148,149,150,151,152,153,154,155,156,157,158,159,160,161,162,163,164,165,166,167,168,169,170,171,172,173,174,175,176,177,178,179,180,181,182,183,184,185,186,187,188,189,190,191,192,193,194,195,196,197,198,199,200,201,202,203,204,205,206,207,208,209,210,211,212,213,214,215,216,217,218,219,220,221,222,223,224,225,226,227,228,229,230,231,232,233,234,235,236,237,238,239,240,241,242,243,244,245,246,247,248,249,250,251,252,253,254,255,256,257,258,259,260,261,262,263,264,265,266,267,268,269,270,271,272,273,274,275,276,277,278,279,280,281,282,283,284,285,286,287,288,289,290,291,292,293,294,295,296,297,298,299,300,301,302,303,304,305,306,307,308,309,310,311,312,313,314,315,316,317,318,319,320,321,322,323,324,325,326,327,328,329,330,331,332,333,334,335,336,337,338,339,340,341,342,343,344,345,346,347,348,349,350,351,352,353,354,355,356,357,358,359,360,361,362,363,364,365,366,367,368,369,370,371,372,373,374,375,376,377,378,379,380,381,382,383,384,385,386,387,388,389,390,391,392,393,394,395,396,397,398,399,400,401,402,403,404,405,406,407,408,409,410,411,412,413,414,415,416,417,418,419,420,421,422,423,424,425,426,427,428,429,430,431,432,433,434,435,436,437,438,439,440,441,442,443,444,445,446,447,448,449],\"y\":[0.285986065864563,0.27689459919929504,0.30298832058906555,0.4461197257041931,0.30574503540992737,0.2883058786392212,0.27191147208213806,0.4787050485610962,0.3016531467437744,0.21130329370498657,0.22417506575584412,0.3791589140892029,0.5476993918418884,0.27291324734687805,0.4837413728237152,0.4362141788005829,0.2740592956542969,0.351635605096817,0.28484055399894714,0.3559683859348297,0.3612533509731293,0.49273356795310974,0.29678162932395935,0.3306886553764343,0.34432804584503174,0.30013662576675415,0.48215994238853455,0.4750552475452423,0.3121524751186371,0.26712360978126526,0.29300642013549805,0.21605239808559418,0.23181165754795074,0.29410818219184875,0.27957382798194885,0.2744905948638916,0.11980221420526505,0.34198814630508423,0.27299657464027405,0.2522917091846466,0.7244747281074524,0.4652180075645447,0.2920577824115753,0.3347446024417877,0.4254925847053528,0.4553527235984802,0.22555451095104218,0.3283015787601471,0.4735774099826813,0.3353559374809265,0.33687588572502136,0.44039490818977356,0.5462525486946106,0.49787992238998413,0.23709195852279663,0.31913986802101135,0.3496469557285309,0.24438543617725372,0.3047005832195282,0.5751360058784485,0.30104881525039673,0.30660393834114075,0.5293101668357849,0.30109870433807373,0.3167070150375366,0.36612454056739807,0.33364224433898926,0.2564716041088104,0.34492045640945435,0.2903387248516083,0.2971329092979431,0.23733653128147125,0.3306642472743988,0.22643055021762848,0.6881498694419861,0.231886625289917,0.25974684953689575,0.558449387550354,0.5610480308532715,0.30663445591926575,0.21878595650196075,0.3631065785884857,0.26056039333343506,0.17335669696331024,0.6260713934898376,0.39004388451576233,0.539168655872345,0.27805426716804504,0.3095197379589081,0.296729177236557,0.6543616056442261,0.22883598506450653,0.22845853865146637,0.31074780225753784,0.2673022747039795,0.3421976566314697,0.25050675868988037,0.3346679210662842,0.30515560507774353,0.30135002732276917,0.559373676776886,0.2637297809123993,0.22624759376049042,0.3214321732521057,0.3998620808124542,0.5671091079711914,0.6318732500076294,0.23260945081710815,0.8175560832023621,0.2861073911190033,0.23863738775253296,0.4089195132255554,0.3318723142147064,0.23745809495449066,0.21683064103126526,0.38482052087783813,0.3315138518810272,0.34942033886909485,0.2976832687854767,0.32556021213531494,0.34811165928840637,0.43965354561805725,0.8411872386932373,0.2668214738368988,0.23332557082176208,0.43250513076782227,0.3222835659980774,0.5938626527786255,0.2471349835395813,0.4151532053947449,0.3184889853000641,0.2495049238204956,0.300415575504303,0.2329237461090088,0.7966799736022949,0.2906000316143036,0.29138264060020447,0.36096665263175964,0.2980324923992157,0.30239254236221313,0.3238532543182373,0.19203928112983704,0.24628812074661255,0.30537423491477966,0.2460935413837433,0.22556903958320618,0.34451398253440857,0.2582644820213318,0.23271916806697845,0.30094993114471436,0.3110875189304352,0.3003472089767456,0.2831939160823822,0.5265604853630066,0.3237665593624115,0.42693448066711426,0.3815392553806305,0.6332364678382874,0.3775899410247803,0.2928444743156433,0.23499001562595367,0.29667314887046814,0.21123017370700836,0.6459946632385254,0.2822016775608063,0.5893680453300476,0.30116352438926697,0.23455333709716797,0.2986672520637512,0.36359819769859314,0.34192824363708496,0.6213147044181824,0.353615403175354,0.26569464802742004,0.3185509145259857,0.314630389213562,0.5028077960014343,0.27256929874420166,0.3107578754425049,0.31584277749061584,0.2621549665927887,0.3272534906864166,0.36982208490371704,0.3215853273868561,0.528765857219696,0.22285832464694977,0.18284589052200317,0.25686848163604736,0.466936320066452,0.30441394448280334,0.2781950533390045,0.6230553984642029,0.23792056739330292,0.47378477454185486,0.5258769392967224,0.33994394540786743,0.2623007893562317,0.38405436277389526,0.2242240160703659,0.3448641002178192,0.31878191232681274,0.28883394598960876,0.33695125579833984,0.23449905216693878,0.11417277157306671,0.24521781504154205,0.5980246067047119,0.6548804044723511,0.27437299489974976,0.3666352331638336,0.3500202000141144,0.3338205814361572,0.22943097352981567,0.25646284222602844,0.2508242428302765,0.30835840106010437,0.2610238492488861,0.24632993340492249,0.4226965606212616,0.30069655179977417,0.31080514192581177,0.35993102192878723,0.42075270414352417,0.5173897743225098,0.32946541905403137,0.5013160705566406,0.518009603023529,0.3407731056213379,0.2581195533275604,0.24971014261245728,0.5936166048049927,0.531013011932373,0.42827126383781433,0.2792402505874634,0.38783198595046997,0.2859382927417755,0.4191196858882904,0.22076047956943512,0.2555125057697296,0.327750563621521,0.29269734025001526,0.28118038177490234,0.46088337898254395,0.3042058050632477,0.3014621138572693,0.5296045541763306,0.2911820113658905,0.3047076165676117,0.19538766145706177,0.27719810605049133,0.3298354148864746,0.30304667353630066,0.5657892823219299,0.10471571981906891,0.35903534293174744,0.5763600468635559,0.4160712957382202,0.30061182379722595,0.26900994777679443,0.7121646404266357,0.3161401152610779,0.19096092879772186,0.6591151356697083,0.2672872543334961,0.34327855706214905,0.4089823365211487,0.4091753363609314,0.35509228706359863,0.35641658306121826,0.30329629778862,0.31189778447151184,0.2555762827396393,0.816473126411438,0.2590712904930115,0.5207757353782654,0.28617632389068604,0.31173282861709595,0.30963030457496643,0.37523311376571655,0.26903319358825684,0.09786651283502579,0.27998092770576477,0.3978354036808014,0.38016584515571594,0.41939693689346313,0.6210432052612305,0.41247496008872986,0.27613261342048645,0.3252495229244232,0.2338864952325821,0.5354985594749451,0.30114033818244934,0.43499618768692017,0.3874039649963379,0.2852865159511566,0.34742000699043274,0.535764217376709,0.4253768026828766,0.2887914180755615,0.23240703344345093,0.26449328660964966,0.3220999240875244,0.260692834854126,0.31953519582748413,0.34917888045310974,0.46051108837127686,0.6107030510902405,0.5238218903541565,0.3979795277118683,0.3333783745765686,0.30100399255752563,0.5740922093391418,0.26071080565452576,0.30884790420532227,0.5329588055610657,0.24731191992759705,0.2821497321128845,0.2682400643825531,0.4856070876121521,0.29676616191864014,0.1753813922405243,0.28170183300971985,0.9410153031349182,0.2090265154838562,0.41009560227394104,0.2928522825241089,0.4613121449947357,0.24531209468841553,0.6198983192443848,0.24749255180358887,0.3804266154766083,0.206047922372818,0.2686506509780884,0.387610524892807,0.3377423584461212,0.4725700914859772,0.35446542501449585,0.28557515144348145,0.2972058653831482,0.6374984979629517,0.627479612827301,0.3457145094871521,0.31181177496910095,0.29065245389938354,0.2722160220146179,0.662796139717102,0.6437414288520813,0.27783864736557007,0.27365708351135254,0.28691768646240234,0.34466835856437683,0.3069051206111908,0.23588968813419342,0.19557702541351318,0.3575901389122009,0.5018951296806335,0.25824037194252014,0.4476238191127777,0.3603874444961548,0.3906215727329254,0.329240083694458,0.2397298812866211,0.29082340002059937,0.27169033885002136,0.31656232476234436,0.6251341700553894,0.2727341055870056,0.4501771032810211,0.23688657581806183,0.5817660093307495,0.35635972023010254,0.3834333121776581,0.3798504173755646,0.5314689874649048,0.08389193564653397,0.484081894159317,0.40003472566604614,0.23184029757976532,0.3381505310535431,0.48884129524230957,0.3350771963596344,0.3403641879558563,0.6631607413291931,0.3876870274543762,0.5410056114196777,0.3934546709060669,0.30882835388183594,0.28492581844329834,0.3259241580963135,0.31580010056495667,0.2614676058292389,0.16133561730384827,0.3018170893192291,0.22217556834220886,0.26941096782684326,0.26398831605911255,0.3261394500732422,0.2581947445869446,0.33613118529319763,0.3653438687324524],\"type\":\"scatter\",\"xaxis\":\"x\",\"yaxis\":\"y\"},{\"name\":\"Reconstructed signal\",\"x\":[50,51,52,53,54,55,56,57,58,59,60,61,62,63,64,65,66,67,68,69,70,71,72,73,74,75,76,77,78,79,80,81,82,83,84,85,86,87,88,89,90,91,92,93,94,95,96,97,98,99,100,101,102,103,104,105,106,107,108,109,110,111,112,113,114,115,116,117,118,119,120,121,122,123,124,125,126,127,128,129,130,131,132,133,134,135,136,137,138,139,140,141,142,143,144,145,146,147,148,149,150,151,152,153,154,155,156,157,158,159,160,161,162,163,164,165,166,167,168,169,170,171,172,173,174,175,176,177,178,179,180,181,182,183,184,185,186,187,188,189,190,191,192,193,194,195,196,197,198,199,200,201,202,203,204,205,206,207,208,209,210,211,212,213,214,215,216,217,218,219,220,221,222,223,224,225,226,227,228,229,230,231,232,233,234,235,236,237,238,239,240,241,242,243,244,245,246,247,248,249,250,251,252,253,254,255,256,257,258,259,260,261,262,263,264,265,266,267,268,269,270,271,272,273,274,275,276,277,278,279,280,281,282,283,284,285,286,287,288,289,290,291,292,293,294,295,296,297,298,299,300,301,302,303,304,305,306,307,308,309,310,311,312,313,314,315,316,317,318,319,320,321,322,323,324,325,326,327,328,329,330,331,332,333,334,335,336,337,338,339,340,341,342,343,344,345,346,347,348,349,350,351,352,353,354,355,356,357,358,359,360,361,362,363,364,365,366,367,368,369,370,371,372,373,374,375,376,377,378,379,380,381,382,383,384,385,386,387,388,389,390,391,392,393,394,395,396,397,398,399,400,401,402,403,404,405,406,407,408,409,410,411,412,413,414,415,416,417,418,419,420,421,422,423,424,425,426,427,428,429,430,431,432,433,434,435,436,437,438,439,440,441,442,443,444,445,446,447,448,449],\"y\":[0.2858571708202362,0.2767565846443176,0.3029092848300934,0.445943146944046,0.30562669038772583,0.2881648540496826,0.271759957075119,0.47846102714538574,0.3015980124473572,0.211617112159729,0.22423836588859558,0.3789058327674866,0.5475756525993347,0.2727598547935486,0.483510285615921,0.43592390418052673,0.2739066481590271,0.35139814019203186,0.2847217917442322,0.3557167649269104,0.3610163629055023,0.49253329634666443,0.2966897189617157,0.33047789335250854,0.3441706895828247,0.30010414123535156,0.4819244146347046,0.474804550409317,0.3119952082633972,0.26701268553733826,0.29287463426589966,0.2162792980670929,0.23180508613586426,0.2939850687980652,0.279466450214386,0.274338960647583,0.12035372853279114,0.3418352007865906,0.2728431820869446,0.25218290090560913,0.7239993810653687,0.46496379375457764,0.2919204831123352,0.33451956510543823,0.4251408874988556,0.4551223814487457,0.22559204697608948,0.32811084389686584,0.4733247458934784,0.3351310193538666,0.33665356040000916,0.44014567136764526,0.5461357831954956,0.4976998567581177,0.23706981539726257,0.31902194023132324,0.34942418336868286,0.24429649114608765,0.3045955300331116,0.5750030279159546,0.30100560188293457,0.3064761757850647,0.5292233824729919,0.3010544776916504,0.3165658116340637,0.36593133211135864,0.33341866731643677,0.25638413429260254,0.3447539508342743,0.29019615054130554,0.2970461845397949,0.23730972409248352,0.33045369386672974,0.2264547348022461,0.6877827644348145,0.23188024759292603,0.2597079575061798,0.55825275182724,0.5608709454536438,0.30650633573532104,0.2189994752407074,0.36288291215896606,0.26053792238235474,0.17384770512580872,0.625678539276123,0.3897993564605713,0.5390750765800476,0.2779275178909302,0.30936965346336365,0.2966364920139313,0.6540008187294006,0.2288355529308319,0.22846084833145142,0.3105928301811218,0.2671889066696167,0.3420543074607849,0.2504028081893921,0.33444294333457947,0.3050445020198822,0.3013008236885071,0.5591843724250793,0.2636853754520416,0.22627437114715576,0.32134541869163513,0.3996680974960327,0.5669645667076111,0.6315650343894958,0.23260578513145447,0.8171654343605042,0.2859776020050049,0.23858851194381714,0.40861546993255615,0.33165478706359863,0.23742899298667908,0.2170504331588745,0.38455700874328613,0.33129817247390747,0.34919965267181396,0.29760515689849854,0.3254031836986542,0.3479039967060089,0.4393964111804962,0.8406575918197632,0.266714870929718,0.23332616686820984,0.43218621611595154,0.3221820592880249,0.5936614274978638,0.24705934524536133,0.41480913758277893,0.31836381554603577,0.24940738081932068,0.3003855347633362,0.23292171955108643,0.7957985401153564,0.2904578447341919,0.2912425398826599,0.36072802543640137,0.297960102558136,0.3023237884044647,0.32372304797172546,0.19253754615783691,0.2462061643600464,0.3052603602409363,0.24601039290428162,0.22560632228851318,0.34435373544692993,0.25820013880729675,0.23271605372428894,0.30090874433517456,0.31093162298202515,0.3003185987472534,0.2830943763256073,0.5264711380004883,0.32363784313201904,0.42658716440200806,0.3812778890132904,0.6329426169395447,0.3773455321788788,0.2927115857601166,0.2350389063358307,0.2965797185897827,0.21154585480690002,0.6457270383834839,0.28211650252342224,0.5891559720039368,0.30111801624298096,0.23457252979278564,0.2986059784889221,0.36337870359420776,0.34177255630493164,0.6209414601325989,0.35336852073669434,0.2656061053276062,0.3184264004230499,0.3144773840904236,0.5026475787162781,0.27241629362106323,0.31060290336608887,0.31569570302963257,0.2621695399284363,0.3270742893218994,0.36965835094451904,0.3214978575706482,0.5286786556243896,0.2229515016078949,0.18341729044914246,0.25678539276123047,0.46668100357055664,0.30431288480758667,0.2780699133872986,0.622647762298584,0.23788323998451233,0.47353237867355347,0.5257866978645325,0.3397372364997864,0.2623191177845001,0.38379040360450745,0.22428622841835022,0.344698429107666,0.3186599016189575,0.2886916995048523,0.3367291986942291,0.23451456427574158,0.11507594585418701,0.24513068795204163,0.5978392362594604,0.6545108556747437,0.2742210924625397,0.36644816398620605,0.34979429841041565,0.3335965871810913,0.22942718863487244,0.256375253200531,0.2507188022136688,0.3082153797149658,0.2610114514827728,0.2462482452392578,0.42234006524086,0.3006606101989746,0.3106499910354614,0.3596871495246887,0.42039579153060913,0.5172814130783081,0.3292638063430786,0.5011498928070068,0.5179030299186707,0.3405730426311493,0.2580530047416687,0.2496110498905182,0.5934140682220459,0.5309268832206726,0.4279291033744812,0.27912819385528564,0.3875761330127716,0.2858097553253174,0.4187643826007843,0.22091227769851685,0.25541606545448303,0.32756567001342773,0.2925635576248169,0.2810991108417511,0.46063581109046936,0.3041077256202698,0.3014106750488281,0.5295178890228271,0.2910413146018982,0.3046024441719055,0.19576841592788696,0.2770627737045288,0.3296307921409607,0.3029666543006897,0.565639317035675,0.10457208752632141,0.35878801345825195,0.5762253999710083,0.41572368144989014,0.30057764053344727,0.26887667179107666,0.7111828923225403,0.3159949779510498,0.19150248169898987,0.6586606502532959,0.2671740651130676,0.34313857555389404,0.40867775678634644,0.4088691174983978,0.3548416495323181,0.356164813041687,0.30321216583251953,0.3117406666278839,0.25548040866851807,0.816094696521759,0.2590200901031494,0.5206760168075562,0.28604602813720703,0.31157588958740234,0.309479683637619,0.37500646710395813,0.26889970898628235,0.09776154160499573,0.279879629611969,0.39766696095466614,0.37990856170654297,0.4190412163734436,0.6206750869750977,0.4121447205543518,0.2759888768196106,0.3250970244407654,0.23389148712158203,0.5354106426239014,0.30109524726867676,0.43469569087028503,0.38714638352394104,0.2851634621620178,0.3472200632095337,0.535676121711731,0.4250248074531555,0.2886492609977722,0.23240241408348083,0.26442840695381165,0.3220020532608032,0.2606731653213501,0.3194219768047333,0.34896036982536316,0.4602644443511963,0.6104764342308044,0.5237284302711487,0.39781293272972107,0.3331553637981415,0.3009616732597351,0.5739598870277405,0.2606915235519409,0.30870163440704346,0.5328725576400757,0.24723762273788452,0.28206533193588257,0.26811492443084717,0.48538169264793396,0.2966740131378174,0.1759640872478485,0.2816246449947357,0.9396178722381592,0.20935019850730896,0.409781813621521,0.2927194833755493,0.4610637128353119,0.24522531032562256,0.619550883769989,0.24741584062576294,0.3801684081554413,0.20632603764533997,0.2685210108757019,0.3873537480831146,0.33752310276031494,0.47231635451316833,0.3542160391807556,0.2854495644569397,0.29712021350860596,0.6372353434562683,0.6271108388900757,0.3455365300178528,0.3116546869277954,0.2905104160308838,0.2720637321472168,0.6622481942176819,0.6434836387634277,0.27770960330963135,0.2735038995742798,0.2867826223373413,0.3445056676864624,0.3067743182182312,0.2360019087791443,0.19595235586166382,0.3573393225669861,0.5017311573028564,0.25817567110061646,0.44743624329566956,0.3601456880569458,0.3903807997703552,0.32904040813446045,0.23966631293296814,0.29068171977996826,0.27153950929641724,0.3164200484752655,0.6247241497039795,0.2725808918476105,0.44997283816337585,0.23700910806655884,0.5816129446029663,0.3561079800128937,0.38316935300827026,0.3795943856239319,0.5313829779624939,0.08333027362823486,0.4838518798351288,0.39983803033828735,0.2318337857723236,0.3379330039024353,0.48862674832344055,0.3348521590232849,0.3401607275009155,0.6626025438308716,0.3874305784702301,0.540907621383667,0.3932366967201233,0.3086822032928467,0.28480613231658936,0.32576197385787964,0.3156528174877167,0.2614654004573822,0.16142180562019348,0.30175885558128357,0.22228631377220154,0.2692740559577942,0.263936847448349,0.3259742856025696,0.258129358291626,0.3359071910381317,0.36514168977737427],\"type\":\"scatter\",\"xaxis\":\"x\",\"yaxis\":\"y\"},{\"name\":\"Errors\",\"x\":[50,51,52,53,54,55,56,57,58,59,60,61,62,63,64,65,66,67,68,69,70,71,72,73,74,75,76,77,78,79,80,81,82,83,84,85,86,87,88,89,90,91,92,93,94,95,96,97,98,99,100,101,102,103,104,105,106,107,108,109,110,111,112,113,114,115,116,117,118,119,120,121,122,123,124,125,126,127,128,129,130,131,132,133,134,135,136,137,138,139,140,141,142,143,144,145,146,147,148,149,150,151,152,153,154,155,156,157,158,159,160,161,162,163,164,165,166,167,168,169,170,171,172,173,174,175,176,177,178,179,180,181,182,183,184,185,186,187,188,189,190,191,192,193,194,195,196,197,198,199,200,201,202,203,204,205,206,207,208,209,210,211,212,213,214,215,216,217,218,219,220,221,222,223,224,225,226,227,228,229,230,231,232,233,234,235,236,237,238,239,240,241,242,243,244,245,246,247,248,249,250,251,252,253,254,255,256,257,258,259,260,261,262,263,264,265,266,267,268,269,270,271,272,273,274,275,276,277,278,279,280,281,282,283,284,285,286,287,288,289,290,291,292,293,294,295,296,297,298,299,300,301,302,303,304,305,306,307,308,309,310,311,312,313,314,315,316,317,318,319,320,321,322,323,324,325,326,327,328,329,330,331,332,333,334,335,336,337,338,339,340,341,342,343,344,345,346,347,348,349,350,351,352,353,354,355,356,357,358,359,360,361,362,363,364,365,366,367,368,369,370,371,372,373,374,375,376,377,378,379,380,381,382,383,384,385,386,387,388,389,390,391,392,393,394,395,396,397,398,399,400,401,402,403,404,405,406,407,408,409,410,411,412,413,414,415,416,417,418,419,420,421,422,423,424,425,426,427,428,429,430,431,432,433,434,435,436,437,438,439,440,441,442,443,444,445,446,447,448,449],\"y\":[1.0165281061347287e-08,1.1812006484035464e-08,3.751154942222001e-09,1.5317535684289396e-08,8.335993229025007e-09,1.2103663848961332e-08,1.4339413212383079e-08,2.7751278608434404e-08,1.8369021859143686e-09,6.694845211541178e-08,2.6882962522734033e-09,3.4043328156485586e-08,6.6190009029298835e-09,1.4666060366153033e-08,2.473508331490848e-08,4.139184994755851e-08,1.4502296252771885e-08,3.064083031745213e-08,8.651782401614128e-09,3.443958718207796e-08,3.063601639041735e-08,1.8405902579843314e-08,5.101301159271543e-09,2.4986693603068488e-08,1.3475544236030146e-08,6.503442229188749e-10,2.5738689402032833e-08,2.9398268708291653e-08,1.4569093487182272e-08,7.763844678265741e-09,1.0507596570619171e-08,3.470285747653179e-08,2.0868307082366755e-11,9.143631629626725e-09,7.1400609868987885e-09,1.4300184147941764e-08,2.4114916641337913e-07,1.2752119360470715e-08,1.4673222636929495e-08,7.619946451598025e-09,7.639013688276464e-08,3.066360676484692e-08,1.1418556766784604e-08,2.811331256680205e-08,6.139428876394959e-08,2.5571852191319522e-08,9.565860326077313e-10,2.0638799114180983e-08,2.9927058164958e-08,2.806844001668196e-08,2.7349111419994188e-08,3.0434158304615266e-08,5.90470694561418e-09,1.4823365646066122e-08,2.8822866315891815e-10,8.176908927737259e-09,2.6961064492070363e-08,5.093559352076227e-09,6.5981109464985366e-09,7.3481771778460825e-09,1.1354228668380983e-09,9.687333601959836e-09,3.382725211054094e-09,1.1944067956903837e-09,1.1717247616616078e-08,2.0509272502522435e-08,2.786387121034295e-08,4.921949070535447e-09,1.5073574388679845e-08,1.2330969134666248e-08,4.550825938309799e-09,4.2786629794733244e-10,2.4949059707068955e-08,4.032912892526497e-10,4.7787061419057864e-08,2.0072943307525293e-11,9.87012249709096e-10,1.625660317472466e-08,1.3176965296679555e-08,9.746209173044917e-09,3.0596115863090745e-08,2.7339822850080964e-08,3.4063596388023143e-10,1.7433249865916878e-07,5.900379917989085e-08,3.099091117064745e-08,3.857396624340481e-09,9.95308369056147e-09,1.331651233726916e-08,5.188896423646838e-09,4.845666268238347e-08,3.519406988061746e-13,5.9287019738007984e-12,1.4179569518546487e-08,8.114332317177286e-09,1.118793058196843e-08,6.982163291979759e-09,2.8098405380205804e-08,7.362261911225687e-09,1.4748864352043256e-09,1.5052371793444763e-08,1.2820252637268936e-09,4.934045394477948e-10,4.451806479011111e-09,1.9304035703271438e-08,8.74765149205814e-09,3.6188737340125954e-08,5.268785407963605e-12,4.6171169998387995e-08,1.0310018616621619e-08,1.4829543149019742e-09,4.687221633048466e-08,2.6517117390767453e-08,5.073106379427372e-10,3.2539169581013994e-08,3.626054123628819e-08,2.611094274129755e-08,2.6473891523437487e-08,3.680196147826109e-09,1.4143674675892726e-08,2.3447913832796985e-08,3.2414860129392764e-08,8.416154884116622e-08,7.189258965922818e-09,2.815525590449397e-12,5.013494686068043e-08,6.039771793808768e-09,1.6264047886238586e-08,3.713588547782365e-09,5.955434545512617e-08,9.201407635828218e-09,6.158814347401176e-09,5.573790318180727e-10,1.3621326289126046e-12,2.4239591311925324e-07,1.2268154492289796e-08,1.1888236173263067e-08,3.1059911975717114e-08,3.176277019178997e-09,2.8429889553649446e-09,9.811042644969348e-09,1.7441895749925607e-07,4.3497943025272434e-09,7.721924433212735e-09,4.472491710316717e-09,9.446413651303942e-10,1.3988852742841118e-08,2.676257881972788e-09,3.471112286490552e-12,1.0353162771536972e-09,1.432187346495084e-08,5.065405872528572e-10,6.11348527357336e-09,3.6010110449069543e-09,9.602558748156298e-09,5.980243855674416e-08,3.602296771987312e-08,3.287810557139892e-08,3.187985342378852e-08,1.0685527129794536e-08,1.6523604706719652e-09,5.2773327929855895e-09,6.774889982352761e-08,2.702703483237201e-08,4.487779037276596e-09,1.8163468951115647e-08,1.2601208965179467e-09,2.7559465820559126e-10,2.2696888812845373e-09,2.6334454616971925e-08,1.3224276784740141e-08,5.357499333058513e-08,3.313598995191569e-08,4.977678269568742e-09,9.115849408658505e-09,1.3750085514629973e-08,1.1689587964269776e-08,1.4593910080407113e-08,1.4175997264942453e-08,1.2701718787866412e-08,1.2055700882029896e-10,1.828667173242593e-08,1.4793137381730048e-08,4.5216985711249436e-09,3.4244411750705694e-09,5.818494575038358e-09,2.3542051508229633e-07,4.4408938748574656e-09,3.0846571519305144e-08,6.0925886558038655e-09,9.702024961200095e-09,6.371264760218764e-08,8.492376801783053e-10,2.985492386642363e-08,3.6727998420360564e-09,2.3480135169506866e-08,1.9449020172146447e-10,3.652781899177171e-08,2.603238735687796e-09,1.49458152520765e-08,8.749776014838062e-09,1.2301185847718443e-08,2.7270425917436114e-08,1.8490187159159177e-10,6.546133022311551e-07,4.906011596972348e-09,1.3743800764132175e-08,5.078000953062656e-08,1.4373327417160908e-08,1.923691783645154e-08,2.770505957983005e-08,2.791869313512052e-08,6.165068455743494e-12,4.930364561062106e-09,7.179061789486241e-09,1.2117011394252586e-08,1.0965106600480112e-10,4.325263258664336e-09,6.330657242870075e-08,7.959894965381409e-10,1.4183047625238032e-08,3.2429490204322065e-08,6.358423121355372e-08,5.3050439596802335e-09,2.295229961646328e-08,1.2585574360457485e-08,5.132843927668773e-09,2.1957493601121314e-08,2.8556801368040396e-09,6.353282788751358e-09,1.6481360276543455e-08,3.320630881376019e-09,5.795861923729717e-08,7.780913691135538e-09,3.3998553305991663e-08,1.0102228387154355e-08,6.317150536006011e-08,1.542779237695413e-08,5.973171735007554e-09,1.9432478737257952e-08,1.0812160056161702e-08,4.105014106414728e-09,2.9250319499851685e-08,5.74858916024823e-09,1.6106267430870957e-09,3.3793448039887153e-09,1.20022889404936e-08,6.61264332180167e-09,1.0113728876604e-07,1.1353426643267994e-08,2.3611665511680258e-08,3.854062846642137e-09,9.42641342760453e-09,1.722194831188517e-08,3.333173737019024e-08,7.512491073669025e-09,6.067231339557111e-08,7.221285791558785e-10,1.1158984847270403e-08,3.2888630130401e-07,1.2384564485046212e-08,2.067331195121369e-07,7.619642161671436e-08,8.08745692637558e-09,1.0655377025159396e-08,4.700786604416862e-08,4.751965221316823e-08,3.4174632901340374e-08,3.450047003639156e-08,4.248485119262568e-09,1.4540231241255697e-08,5.915837597569862e-09,4.342132342571858e-08,1.7040466815387845e-09,4.492413996359801e-09,1.0376663972522238e-08,1.4500752598678446e-08,1.339917687914749e-08,2.7666636981393822e-08,1.1190436133290405e-08,9.393769317966871e-09,6.356971837817582e-09,1.4604447429178435e-08,3.5034538825584605e-08,6.326142454327055e-08,5.212950071609157e-08,5.503949296326027e-08,1.2818867745068019e-08,1.3357499994981481e-08,2.6155522192539138e-11,3.4435232443286168e-09,1.2380518832344478e-09,4.437835343651386e-08,3.450045227282317e-08,9.28667276411943e-09,2.17414957148776e-08,3.4505203139190144e-09,6.152727394237445e-08,1.2284681716323576e-08,9.34508026517733e-12,2.6987594381466806e-09,5.636900723970939e-09,2.6346802517451806e-10,7.550823966084863e-09,2.5938518888324325e-08,2.9052017680442077e-08,2.0138280376613693e-08,3.9394145723292695e-09,1.4289271987877328e-08,2.7714694539326956e-08,1.087738343841238e-09,7.286922176774624e-09,2.541171717496127e-10,1.266440463609797e-08,3.31879101977961e-09,3.591152264448283e-09,4.414216103754143e-09,9.864088212907518e-09,2.348119210182631e-08,5.128993230130163e-09,2.4665311570970516e-07,3.695701522588024e-09,5.146301873537595e-07,7.145578706513334e-08,4.983400003766292e-08,1.0663990579473648e-08,2.9439341631132265e-08,4.863311531266845e-09,4.654488705568838e-08,3.834450534867528e-09,3.528598213620171e-08,5.3002722211203945e-08,1.056890930328791e-08,3.428490913393034e-08,2.654692288217575e-08,3.021132499725354e-08,3.3839405944036116e-08,9.66377555755571e-09,4.4329384607522115e-09,2.6340114089862254e-08,5.192572061218925e-08,1.7262571816445416e-08,1.4543848791959135e-08,1.2241761382369987e-08,1.4500511014148287e-08,1.100689388522369e-07,2.5145345361465843e-08,1.0332735556062289e-08,1.4611917009688113e-08,1.1140103950424418e-08,1.441147023939493e-08,1.0162453989437381e-08,8.43064285049877e-09,9.824393032431544e-08,3.426846717502485e-08,1.2246801794901785e-08,2.7048461248568856e-09,1.7209307756616e-08,3.184720753779402e-08,3.0022768271464884e-08,2.2543257927054583e-08,2.549349176206306e-09,1.2175902952549222e-08,1.4220050026381159e-08,1.1888928952430433e-08,6.431594101741211e-08,1.4656973412741081e-08,2.0278879020452223e-08,1.0008925244164857e-08,9.615374274574151e-09,3.4494924250338954e-08,3.6550666493440076e-08,3.475622989412841e-08,3.310337781670114e-09,2.699698882224766e-07,2.4492054606639613e-08,1.986289888122883e-08,2.0072943307525293e-11,2.6092450866599393e-08,2.120131625815702e-08,2.8093328552358798e-08,2.2746116101757252e-08,1.1420042511645079e-07,3.4180139607542515e-08,4.220881866245918e-09,2.455512415622252e-08,1.2634171042691378e-08,8.779729832042449e-09,1.505821778380323e-08,1.2738603949458138e-08,5.707878614202855e-12,5.2752420209856155e-09,2.0497035180255807e-09,8.210889745896566e-09,1.1778082509295018e-08,1.7066170698853966e-09,1.5607966474817658e-08,2.755459860281917e-09,2.7799471169487333e-08,2.240278362819481e-08],\"type\":\"scatter\",\"xaxis\":\"x2\",\"yaxis\":\"y2\"}],                        {\"template\":{\"data\":{\"bar\":[{\"error_x\":{\"color\":\"#2a3f5f\"},\"error_y\":{\"color\":\"#2a3f5f\"},\"marker\":{\"line\":{\"color\":\"#E5ECF6\",\"width\":0.5},\"pattern\":{\"fillmode\":\"overlay\",\"size\":10,\"solidity\":0.2}},\"type\":\"bar\"}],\"barpolar\":[{\"marker\":{\"line\":{\"color\":\"#E5ECF6\",\"width\":0.5},\"pattern\":{\"fillmode\":\"overlay\",\"size\":10,\"solidity\":0.2}},\"type\":\"barpolar\"}],\"carpet\":[{\"aaxis\":{\"endlinecolor\":\"#2a3f5f\",\"gridcolor\":\"white\",\"linecolor\":\"white\",\"minorgridcolor\":\"white\",\"startlinecolor\":\"#2a3f5f\"},\"baxis\":{\"endlinecolor\":\"#2a3f5f\",\"gridcolor\":\"white\",\"linecolor\":\"white\",\"minorgridcolor\":\"white\",\"startlinecolor\":\"#2a3f5f\"},\"type\":\"carpet\"}],\"choropleth\":[{\"colorbar\":{\"outlinewidth\":0,\"ticks\":\"\"},\"type\":\"choropleth\"}],\"contour\":[{\"colorbar\":{\"outlinewidth\":0,\"ticks\":\"\"},\"colorscale\":[[0.0,\"#0d0887\"],[0.1111111111111111,\"#46039f\"],[0.2222222222222222,\"#7201a8\"],[0.3333333333333333,\"#9c179e\"],[0.4444444444444444,\"#bd3786\"],[0.5555555555555556,\"#d8576b\"],[0.6666666666666666,\"#ed7953\"],[0.7777777777777778,\"#fb9f3a\"],[0.8888888888888888,\"#fdca26\"],[1.0,\"#f0f921\"]],\"type\":\"contour\"}],\"contourcarpet\":[{\"colorbar\":{\"outlinewidth\":0,\"ticks\":\"\"},\"type\":\"contourcarpet\"}],\"heatmap\":[{\"colorbar\":{\"outlinewidth\":0,\"ticks\":\"\"},\"colorscale\":[[0.0,\"#0d0887\"],[0.1111111111111111,\"#46039f\"],[0.2222222222222222,\"#7201a8\"],[0.3333333333333333,\"#9c179e\"],[0.4444444444444444,\"#bd3786\"],[0.5555555555555556,\"#d8576b\"],[0.6666666666666666,\"#ed7953\"],[0.7777777777777778,\"#fb9f3a\"],[0.8888888888888888,\"#fdca26\"],[1.0,\"#f0f921\"]],\"type\":\"heatmap\"}],\"heatmapgl\":[{\"colorbar\":{\"outlinewidth\":0,\"ticks\":\"\"},\"colorscale\":[[0.0,\"#0d0887\"],[0.1111111111111111,\"#46039f\"],[0.2222222222222222,\"#7201a8\"],[0.3333333333333333,\"#9c179e\"],[0.4444444444444444,\"#bd3786\"],[0.5555555555555556,\"#d8576b\"],[0.6666666666666666,\"#ed7953\"],[0.7777777777777778,\"#fb9f3a\"],[0.8888888888888888,\"#fdca26\"],[1.0,\"#f0f921\"]],\"type\":\"heatmapgl\"}],\"histogram\":[{\"marker\":{\"pattern\":{\"fillmode\":\"overlay\",\"size\":10,\"solidity\":0.2}},\"type\":\"histogram\"}],\"histogram2d\":[{\"colorbar\":{\"outlinewidth\":0,\"ticks\":\"\"},\"colorscale\":[[0.0,\"#0d0887\"],[0.1111111111111111,\"#46039f\"],[0.2222222222222222,\"#7201a8\"],[0.3333333333333333,\"#9c179e\"],[0.4444444444444444,\"#bd3786\"],[0.5555555555555556,\"#d8576b\"],[0.6666666666666666,\"#ed7953\"],[0.7777777777777778,\"#fb9f3a\"],[0.8888888888888888,\"#fdca26\"],[1.0,\"#f0f921\"]],\"type\":\"histogram2d\"}],\"histogram2dcontour\":[{\"colorbar\":{\"outlinewidth\":0,\"ticks\":\"\"},\"colorscale\":[[0.0,\"#0d0887\"],[0.1111111111111111,\"#46039f\"],[0.2222222222222222,\"#7201a8\"],[0.3333333333333333,\"#9c179e\"],[0.4444444444444444,\"#bd3786\"],[0.5555555555555556,\"#d8576b\"],[0.6666666666666666,\"#ed7953\"],[0.7777777777777778,\"#fb9f3a\"],[0.8888888888888888,\"#fdca26\"],[1.0,\"#f0f921\"]],\"type\":\"histogram2dcontour\"}],\"mesh3d\":[{\"colorbar\":{\"outlinewidth\":0,\"ticks\":\"\"},\"type\":\"mesh3d\"}],\"parcoords\":[{\"line\":{\"colorbar\":{\"outlinewidth\":0,\"ticks\":\"\"}},\"type\":\"parcoords\"}],\"pie\":[{\"automargin\":true,\"type\":\"pie\"}],\"scatter\":[{\"marker\":{\"colorbar\":{\"outlinewidth\":0,\"ticks\":\"\"}},\"type\":\"scatter\"}],\"scatter3d\":[{\"line\":{\"colorbar\":{\"outlinewidth\":0,\"ticks\":\"\"}},\"marker\":{\"colorbar\":{\"outlinewidth\":0,\"ticks\":\"\"}},\"type\":\"scatter3d\"}],\"scattercarpet\":[{\"marker\":{\"colorbar\":{\"outlinewidth\":0,\"ticks\":\"\"}},\"type\":\"scattercarpet\"}],\"scattergeo\":[{\"marker\":{\"colorbar\":{\"outlinewidth\":0,\"ticks\":\"\"}},\"type\":\"scattergeo\"}],\"scattergl\":[{\"marker\":{\"colorbar\":{\"outlinewidth\":0,\"ticks\":\"\"}},\"type\":\"scattergl\"}],\"scattermapbox\":[{\"marker\":{\"colorbar\":{\"outlinewidth\":0,\"ticks\":\"\"}},\"type\":\"scattermapbox\"}],\"scatterpolar\":[{\"marker\":{\"colorbar\":{\"outlinewidth\":0,\"ticks\":\"\"}},\"type\":\"scatterpolar\"}],\"scatterpolargl\":[{\"marker\":{\"colorbar\":{\"outlinewidth\":0,\"ticks\":\"\"}},\"type\":\"scatterpolargl\"}],\"scatterternary\":[{\"marker\":{\"colorbar\":{\"outlinewidth\":0,\"ticks\":\"\"}},\"type\":\"scatterternary\"}],\"surface\":[{\"colorbar\":{\"outlinewidth\":0,\"ticks\":\"\"},\"colorscale\":[[0.0,\"#0d0887\"],[0.1111111111111111,\"#46039f\"],[0.2222222222222222,\"#7201a8\"],[0.3333333333333333,\"#9c179e\"],[0.4444444444444444,\"#bd3786\"],[0.5555555555555556,\"#d8576b\"],[0.6666666666666666,\"#ed7953\"],[0.7777777777777778,\"#fb9f3a\"],[0.8888888888888888,\"#fdca26\"],[1.0,\"#f0f921\"]],\"type\":\"surface\"}],\"table\":[{\"cells\":{\"fill\":{\"color\":\"#EBF0F8\"},\"line\":{\"color\":\"white\"}},\"header\":{\"fill\":{\"color\":\"#C8D4E3\"},\"line\":{\"color\":\"white\"}},\"type\":\"table\"}]},\"layout\":{\"annotationdefaults\":{\"arrowcolor\":\"#2a3f5f\",\"arrowhead\":0,\"arrowwidth\":1},\"autotypenumbers\":\"strict\",\"coloraxis\":{\"colorbar\":{\"outlinewidth\":0,\"ticks\":\"\"}},\"colorscale\":{\"diverging\":[[0,\"#8e0152\"],[0.1,\"#c51b7d\"],[0.2,\"#de77ae\"],[0.3,\"#f1b6da\"],[0.4,\"#fde0ef\"],[0.5,\"#f7f7f7\"],[0.6,\"#e6f5d0\"],[0.7,\"#b8e186\"],[0.8,\"#7fbc41\"],[0.9,\"#4d9221\"],[1,\"#276419\"]],\"sequential\":[[0.0,\"#0d0887\"],[0.1111111111111111,\"#46039f\"],[0.2222222222222222,\"#7201a8\"],[0.3333333333333333,\"#9c179e\"],[0.4444444444444444,\"#bd3786\"],[0.5555555555555556,\"#d8576b\"],[0.6666666666666666,\"#ed7953\"],[0.7777777777777778,\"#fb9f3a\"],[0.8888888888888888,\"#fdca26\"],[1.0,\"#f0f921\"]],\"sequentialminus\":[[0.0,\"#0d0887\"],[0.1111111111111111,\"#46039f\"],[0.2222222222222222,\"#7201a8\"],[0.3333333333333333,\"#9c179e\"],[0.4444444444444444,\"#bd3786\"],[0.5555555555555556,\"#d8576b\"],[0.6666666666666666,\"#ed7953\"],[0.7777777777777778,\"#fb9f3a\"],[0.8888888888888888,\"#fdca26\"],[1.0,\"#f0f921\"]]},\"colorway\":[\"#636efa\",\"#EF553B\",\"#00cc96\",\"#ab63fa\",\"#FFA15A\",\"#19d3f3\",\"#FF6692\",\"#B6E880\",\"#FF97FF\",\"#FECB52\"],\"font\":{\"color\":\"#2a3f5f\"},\"geo\":{\"bgcolor\":\"white\",\"lakecolor\":\"white\",\"landcolor\":\"#E5ECF6\",\"showlakes\":true,\"showland\":true,\"subunitcolor\":\"white\"},\"hoverlabel\":{\"align\":\"left\"},\"hovermode\":\"closest\",\"mapbox\":{\"style\":\"light\"},\"paper_bgcolor\":\"white\",\"plot_bgcolor\":\"#E5ECF6\",\"polar\":{\"angularaxis\":{\"gridcolor\":\"white\",\"linecolor\":\"white\",\"ticks\":\"\"},\"bgcolor\":\"#E5ECF6\",\"radialaxis\":{\"gridcolor\":\"white\",\"linecolor\":\"white\",\"ticks\":\"\"}},\"scene\":{\"xaxis\":{\"backgroundcolor\":\"#E5ECF6\",\"gridcolor\":\"white\",\"gridwidth\":2,\"linecolor\":\"white\",\"showbackground\":true,\"ticks\":\"\",\"zerolinecolor\":\"white\"},\"yaxis\":{\"backgroundcolor\":\"#E5ECF6\",\"gridcolor\":\"white\",\"gridwidth\":2,\"linecolor\":\"white\",\"showbackground\":true,\"ticks\":\"\",\"zerolinecolor\":\"white\"},\"zaxis\":{\"backgroundcolor\":\"#E5ECF6\",\"gridcolor\":\"white\",\"gridwidth\":2,\"linecolor\":\"white\",\"showbackground\":true,\"ticks\":\"\",\"zerolinecolor\":\"white\"}},\"shapedefaults\":{\"line\":{\"color\":\"#2a3f5f\"}},\"ternary\":{\"aaxis\":{\"gridcolor\":\"white\",\"linecolor\":\"white\",\"ticks\":\"\"},\"baxis\":{\"gridcolor\":\"white\",\"linecolor\":\"white\",\"ticks\":\"\"},\"bgcolor\":\"#E5ECF6\",\"caxis\":{\"gridcolor\":\"white\",\"linecolor\":\"white\",\"ticks\":\"\"}},\"title\":{\"x\":0.05},\"xaxis\":{\"automargin\":true,\"gridcolor\":\"white\",\"linecolor\":\"white\",\"ticks\":\"\",\"title\":{\"standoff\":15},\"zerolinecolor\":\"white\",\"zerolinewidth\":2},\"yaxis\":{\"automargin\":true,\"gridcolor\":\"white\",\"linecolor\":\"white\",\"ticks\":\"\",\"title\":{\"standoff\":15},\"zerolinecolor\":\"white\",\"zerolinewidth\":2}}},\"xaxis\":{\"anchor\":\"y\",\"domain\":[0.0,1.0]},\"yaxis\":{\"anchor\":\"x\",\"domain\":[0.575,1.0]},\"xaxis2\":{\"anchor\":\"y2\",\"domain\":[0.0,1.0]},\"yaxis2\":{\"anchor\":\"x2\",\"domain\":[0.0,0.425]},\"shapes\":[{\"type\":\"line\",\"x0\":0,\"x1\":1,\"xref\":\"x2 domain\",\"y0\":4.019012376232922e-07,\"y1\":4.019012376232922e-07,\"yref\":\"y2\"}]},                        {\"responsive\": true}                    ).then(function(){\n",
              "                            \n",
              "var gd = document.getElementById('4bf83a09-68cc-4ce6-9ba2-3f1976f7fda4');\n",
              "var x = new MutationObserver(function (mutations, observer) {{\n",
              "        var display = window.getComputedStyle(gd).display;\n",
              "        if (!display || display === 'none') {{\n",
              "            console.log([gd, 'removed!']);\n",
              "            Plotly.purge(gd);\n",
              "            observer.disconnect();\n",
              "        }}\n",
              "}});\n",
              "\n",
              "// Listen for the removal of the full notebook cells\n",
              "var notebookContainer = gd.closest('#notebook-container');\n",
              "if (notebookContainer) {{\n",
              "    x.observe(notebookContainer, {childList: true});\n",
              "}}\n",
              "\n",
              "// Listen for the clearing of the current output cell\n",
              "var outputEl = gd.closest('.output');\n",
              "if (outputEl) {{\n",
              "    x.observe(outputEl, {childList: true});\n",
              "}}\n",
              "\n",
              "                        })                };                            </script>        </div>\n",
              "</body>\n",
              "</html>"
            ]
          },
          "metadata": {}
        }
      ]
    }
  ]
}