{
  "nbformat": 4,
  "nbformat_minor": 0,
  "metadata": {
    "colab": {
      "provenance": [],
      "collapsed_sections": [],
      "toc_visible": true,
      "authorship_tag": "ABX9TyNlQ+cTIFPG0MzZDrX+W9p8",
      "include_colab_link": true
    },
    "kernelspec": {
      "name": "python3",
      "display_name": "Python 3"
    },
    "language_info": {
      "name": "python"
    },
    "widgets": {
      "application/vnd.jupyter.widget-state+json": {
        "1cf44a5eeb094f958f92545fee738b5a": {
          "model_module": "@jupyter-widgets/controls",
          "model_name": "HBoxModel",
          "model_module_version": "1.5.0",
          "state": {
            "_dom_classes": [],
            "_model_module": "@jupyter-widgets/controls",
            "_model_module_version": "1.5.0",
            "_model_name": "HBoxModel",
            "_view_count": null,
            "_view_module": "@jupyter-widgets/controls",
            "_view_module_version": "1.5.0",
            "_view_name": "HBoxView",
            "box_style": "",
            "children": [
              "IPY_MODEL_7c50bd517ef947ba91862f06a72b5397",
              "IPY_MODEL_f5233e00530d4b8bb6db2956a535295f",
              "IPY_MODEL_c5607eddfc0448d9992857f9007ceb09"
            ],
            "layout": "IPY_MODEL_04f6a27acc7b4d8ea4db2438593dde0e"
          }
        },
        "7c50bd517ef947ba91862f06a72b5397": {
          "model_module": "@jupyter-widgets/controls",
          "model_name": "HTMLModel",
          "model_module_version": "1.5.0",
          "state": {
            "_dom_classes": [],
            "_model_module": "@jupyter-widgets/controls",
            "_model_module_version": "1.5.0",
            "_model_name": "HTMLModel",
            "_view_count": null,
            "_view_module": "@jupyter-widgets/controls",
            "_view_module_version": "1.5.0",
            "_view_name": "HTMLView",
            "description": "",
            "description_tooltip": null,
            "layout": "IPY_MODEL_2f102c0f385d416ea33e38bbd8396e4d",
            "placeholder": "​",
            "style": "IPY_MODEL_fa66d6e9acf347d0b934e02edcd9af8e",
            "value": "100%"
          }
        },
        "f5233e00530d4b8bb6db2956a535295f": {
          "model_module": "@jupyter-widgets/controls",
          "model_name": "FloatProgressModel",
          "model_module_version": "1.5.0",
          "state": {
            "_dom_classes": [],
            "_model_module": "@jupyter-widgets/controls",
            "_model_module_version": "1.5.0",
            "_model_name": "FloatProgressModel",
            "_view_count": null,
            "_view_module": "@jupyter-widgets/controls",
            "_view_module_version": "1.5.0",
            "_view_name": "ProgressView",
            "bar_style": "success",
            "description": "",
            "description_tooltip": null,
            "layout": "IPY_MODEL_7c0cf28ea512416a8654e5f6fea5ae41",
            "max": 32,
            "min": 0,
            "orientation": "horizontal",
            "style": "IPY_MODEL_1d5967bd1dad4f0c8635c3c76afab97a",
            "value": 32
          }
        },
        "c5607eddfc0448d9992857f9007ceb09": {
          "model_module": "@jupyter-widgets/controls",
          "model_name": "HTMLModel",
          "model_module_version": "1.5.0",
          "state": {
            "_dom_classes": [],
            "_model_module": "@jupyter-widgets/controls",
            "_model_module_version": "1.5.0",
            "_model_name": "HTMLModel",
            "_view_count": null,
            "_view_module": "@jupyter-widgets/controls",
            "_view_module_version": "1.5.0",
            "_view_name": "HTMLView",
            "description": "",
            "description_tooltip": null,
            "layout": "IPY_MODEL_4f7f9fe436614b7e8b64bd8bb55d08a1",
            "placeholder": "​",
            "style": "IPY_MODEL_bd1873c5552346c39a50e26fe7273e92",
            "value": " 32/32 [00:16&lt;00:00,  1.97it/s]"
          }
        },
        "04f6a27acc7b4d8ea4db2438593dde0e": {
          "model_module": "@jupyter-widgets/base",
          "model_name": "LayoutModel",
          "model_module_version": "1.2.0",
          "state": {
            "_model_module": "@jupyter-widgets/base",
            "_model_module_version": "1.2.0",
            "_model_name": "LayoutModel",
            "_view_count": null,
            "_view_module": "@jupyter-widgets/base",
            "_view_module_version": "1.2.0",
            "_view_name": "LayoutView",
            "align_content": null,
            "align_items": null,
            "align_self": null,
            "border": null,
            "bottom": null,
            "display": null,
            "flex": null,
            "flex_flow": null,
            "grid_area": null,
            "grid_auto_columns": null,
            "grid_auto_flow": null,
            "grid_auto_rows": null,
            "grid_column": null,
            "grid_gap": null,
            "grid_row": null,
            "grid_template_areas": null,
            "grid_template_columns": null,
            "grid_template_rows": null,
            "height": null,
            "justify_content": null,
            "justify_items": null,
            "left": null,
            "margin": null,
            "max_height": null,
            "max_width": null,
            "min_height": null,
            "min_width": null,
            "object_fit": null,
            "object_position": null,
            "order": null,
            "overflow": null,
            "overflow_x": null,
            "overflow_y": null,
            "padding": null,
            "right": null,
            "top": null,
            "visibility": null,
            "width": null
          }
        },
        "2f102c0f385d416ea33e38bbd8396e4d": {
          "model_module": "@jupyter-widgets/base",
          "model_name": "LayoutModel",
          "model_module_version": "1.2.0",
          "state": {
            "_model_module": "@jupyter-widgets/base",
            "_model_module_version": "1.2.0",
            "_model_name": "LayoutModel",
            "_view_count": null,
            "_view_module": "@jupyter-widgets/base",
            "_view_module_version": "1.2.0",
            "_view_name": "LayoutView",
            "align_content": null,
            "align_items": null,
            "align_self": null,
            "border": null,
            "bottom": null,
            "display": null,
            "flex": null,
            "flex_flow": null,
            "grid_area": null,
            "grid_auto_columns": null,
            "grid_auto_flow": null,
            "grid_auto_rows": null,
            "grid_column": null,
            "grid_gap": null,
            "grid_row": null,
            "grid_template_areas": null,
            "grid_template_columns": null,
            "grid_template_rows": null,
            "height": null,
            "justify_content": null,
            "justify_items": null,
            "left": null,
            "margin": null,
            "max_height": null,
            "max_width": null,
            "min_height": null,
            "min_width": null,
            "object_fit": null,
            "object_position": null,
            "order": null,
            "overflow": null,
            "overflow_x": null,
            "overflow_y": null,
            "padding": null,
            "right": null,
            "top": null,
            "visibility": null,
            "width": null
          }
        },
        "fa66d6e9acf347d0b934e02edcd9af8e": {
          "model_module": "@jupyter-widgets/controls",
          "model_name": "DescriptionStyleModel",
          "model_module_version": "1.5.0",
          "state": {
            "_model_module": "@jupyter-widgets/controls",
            "_model_module_version": "1.5.0",
            "_model_name": "DescriptionStyleModel",
            "_view_count": null,
            "_view_module": "@jupyter-widgets/base",
            "_view_module_version": "1.2.0",
            "_view_name": "StyleView",
            "description_width": ""
          }
        },
        "7c0cf28ea512416a8654e5f6fea5ae41": {
          "model_module": "@jupyter-widgets/base",
          "model_name": "LayoutModel",
          "model_module_version": "1.2.0",
          "state": {
            "_model_module": "@jupyter-widgets/base",
            "_model_module_version": "1.2.0",
            "_model_name": "LayoutModel",
            "_view_count": null,
            "_view_module": "@jupyter-widgets/base",
            "_view_module_version": "1.2.0",
            "_view_name": "LayoutView",
            "align_content": null,
            "align_items": null,
            "align_self": null,
            "border": null,
            "bottom": null,
            "display": null,
            "flex": null,
            "flex_flow": null,
            "grid_area": null,
            "grid_auto_columns": null,
            "grid_auto_flow": null,
            "grid_auto_rows": null,
            "grid_column": null,
            "grid_gap": null,
            "grid_row": null,
            "grid_template_areas": null,
            "grid_template_columns": null,
            "grid_template_rows": null,
            "height": null,
            "justify_content": null,
            "justify_items": null,
            "left": null,
            "margin": null,
            "max_height": null,
            "max_width": null,
            "min_height": null,
            "min_width": null,
            "object_fit": null,
            "object_position": null,
            "order": null,
            "overflow": null,
            "overflow_x": null,
            "overflow_y": null,
            "padding": null,
            "right": null,
            "top": null,
            "visibility": null,
            "width": null
          }
        },
        "1d5967bd1dad4f0c8635c3c76afab97a": {
          "model_module": "@jupyter-widgets/controls",
          "model_name": "ProgressStyleModel",
          "model_module_version": "1.5.0",
          "state": {
            "_model_module": "@jupyter-widgets/controls",
            "_model_module_version": "1.5.0",
            "_model_name": "ProgressStyleModel",
            "_view_count": null,
            "_view_module": "@jupyter-widgets/base",
            "_view_module_version": "1.2.0",
            "_view_name": "StyleView",
            "bar_color": null,
            "description_width": ""
          }
        },
        "4f7f9fe436614b7e8b64bd8bb55d08a1": {
          "model_module": "@jupyter-widgets/base",
          "model_name": "LayoutModel",
          "model_module_version": "1.2.0",
          "state": {
            "_model_module": "@jupyter-widgets/base",
            "_model_module_version": "1.2.0",
            "_model_name": "LayoutModel",
            "_view_count": null,
            "_view_module": "@jupyter-widgets/base",
            "_view_module_version": "1.2.0",
            "_view_name": "LayoutView",
            "align_content": null,
            "align_items": null,
            "align_self": null,
            "border": null,
            "bottom": null,
            "display": null,
            "flex": null,
            "flex_flow": null,
            "grid_area": null,
            "grid_auto_columns": null,
            "grid_auto_flow": null,
            "grid_auto_rows": null,
            "grid_column": null,
            "grid_gap": null,
            "grid_row": null,
            "grid_template_areas": null,
            "grid_template_columns": null,
            "grid_template_rows": null,
            "height": null,
            "justify_content": null,
            "justify_items": null,
            "left": null,
            "margin": null,
            "max_height": null,
            "max_width": null,
            "min_height": null,
            "min_width": null,
            "object_fit": null,
            "object_position": null,
            "order": null,
            "overflow": null,
            "overflow_x": null,
            "overflow_y": null,
            "padding": null,
            "right": null,
            "top": null,
            "visibility": null,
            "width": null
          }
        },
        "bd1873c5552346c39a50e26fe7273e92": {
          "model_module": "@jupyter-widgets/controls",
          "model_name": "DescriptionStyleModel",
          "model_module_version": "1.5.0",
          "state": {
            "_model_module": "@jupyter-widgets/controls",
            "_model_module_version": "1.5.0",
            "_model_name": "DescriptionStyleModel",
            "_view_count": null,
            "_view_module": "@jupyter-widgets/base",
            "_view_module_version": "1.2.0",
            "_view_name": "StyleView",
            "description_width": ""
          }
        },
        "012916e6039d4e4abf346329e1d835b1": {
          "model_module": "@jupyter-widgets/controls",
          "model_name": "HBoxModel",
          "model_module_version": "1.5.0",
          "state": {
            "_dom_classes": [],
            "_model_module": "@jupyter-widgets/controls",
            "_model_module_version": "1.5.0",
            "_model_name": "HBoxModel",
            "_view_count": null,
            "_view_module": "@jupyter-widgets/controls",
            "_view_module_version": "1.5.0",
            "_view_name": "HBoxView",
            "box_style": "",
            "children": [
              "IPY_MODEL_4cacfca8108643cda177ba190b1965a7",
              "IPY_MODEL_d74daf999ee34c7e82620bf67e4f2e0a",
              "IPY_MODEL_3d350ddd1b3e4aebab62b6e993150ef5"
            ],
            "layout": "IPY_MODEL_492899e83bf44c9aae89c3e8eb3d36ee"
          }
        },
        "4cacfca8108643cda177ba190b1965a7": {
          "model_module": "@jupyter-widgets/controls",
          "model_name": "HTMLModel",
          "model_module_version": "1.5.0",
          "state": {
            "_dom_classes": [],
            "_model_module": "@jupyter-widgets/controls",
            "_model_module_version": "1.5.0",
            "_model_name": "HTMLModel",
            "_view_count": null,
            "_view_module": "@jupyter-widgets/controls",
            "_view_module_version": "1.5.0",
            "_view_name": "HTMLView",
            "description": "",
            "description_tooltip": null,
            "layout": "IPY_MODEL_b23d9f00b4d14e63b46085ca93ede80d",
            "placeholder": "​",
            "style": "IPY_MODEL_775dd556d08d478288413f2abc15a266",
            "value": "100%"
          }
        },
        "d74daf999ee34c7e82620bf67e4f2e0a": {
          "model_module": "@jupyter-widgets/controls",
          "model_name": "FloatProgressModel",
          "model_module_version": "1.5.0",
          "state": {
            "_dom_classes": [],
            "_model_module": "@jupyter-widgets/controls",
            "_model_module_version": "1.5.0",
            "_model_name": "FloatProgressModel",
            "_view_count": null,
            "_view_module": "@jupyter-widgets/controls",
            "_view_module_version": "1.5.0",
            "_view_name": "ProgressView",
            "bar_style": "success",
            "description": "",
            "description_tooltip": null,
            "layout": "IPY_MODEL_77f4c2a539da4ec9856e33bf63910f26",
            "max": 32,
            "min": 0,
            "orientation": "horizontal",
            "style": "IPY_MODEL_712daf0381ec426ab98ecb0975929902",
            "value": 32
          }
        },
        "3d350ddd1b3e4aebab62b6e993150ef5": {
          "model_module": "@jupyter-widgets/controls",
          "model_name": "HTMLModel",
          "model_module_version": "1.5.0",
          "state": {
            "_dom_classes": [],
            "_model_module": "@jupyter-widgets/controls",
            "_model_module_version": "1.5.0",
            "_model_name": "HTMLModel",
            "_view_count": null,
            "_view_module": "@jupyter-widgets/controls",
            "_view_module_version": "1.5.0",
            "_view_name": "HTMLView",
            "description": "",
            "description_tooltip": null,
            "layout": "IPY_MODEL_8ebb39cd710e40e9851d8518efc9ee9a",
            "placeholder": "​",
            "style": "IPY_MODEL_73aad9bfb33a4abbb5ef4cf7bc3fbc8c",
            "value": " 32/32 [22:35&lt;00:00, 40.97s/it]"
          }
        },
        "492899e83bf44c9aae89c3e8eb3d36ee": {
          "model_module": "@jupyter-widgets/base",
          "model_name": "LayoutModel",
          "model_module_version": "1.2.0",
          "state": {
            "_model_module": "@jupyter-widgets/base",
            "_model_module_version": "1.2.0",
            "_model_name": "LayoutModel",
            "_view_count": null,
            "_view_module": "@jupyter-widgets/base",
            "_view_module_version": "1.2.0",
            "_view_name": "LayoutView",
            "align_content": null,
            "align_items": null,
            "align_self": null,
            "border": null,
            "bottom": null,
            "display": null,
            "flex": null,
            "flex_flow": null,
            "grid_area": null,
            "grid_auto_columns": null,
            "grid_auto_flow": null,
            "grid_auto_rows": null,
            "grid_column": null,
            "grid_gap": null,
            "grid_row": null,
            "grid_template_areas": null,
            "grid_template_columns": null,
            "grid_template_rows": null,
            "height": null,
            "justify_content": null,
            "justify_items": null,
            "left": null,
            "margin": null,
            "max_height": null,
            "max_width": null,
            "min_height": null,
            "min_width": null,
            "object_fit": null,
            "object_position": null,
            "order": null,
            "overflow": null,
            "overflow_x": null,
            "overflow_y": null,
            "padding": null,
            "right": null,
            "top": null,
            "visibility": null,
            "width": null
          }
        },
        "b23d9f00b4d14e63b46085ca93ede80d": {
          "model_module": "@jupyter-widgets/base",
          "model_name": "LayoutModel",
          "model_module_version": "1.2.0",
          "state": {
            "_model_module": "@jupyter-widgets/base",
            "_model_module_version": "1.2.0",
            "_model_name": "LayoutModel",
            "_view_count": null,
            "_view_module": "@jupyter-widgets/base",
            "_view_module_version": "1.2.0",
            "_view_name": "LayoutView",
            "align_content": null,
            "align_items": null,
            "align_self": null,
            "border": null,
            "bottom": null,
            "display": null,
            "flex": null,
            "flex_flow": null,
            "grid_area": null,
            "grid_auto_columns": null,
            "grid_auto_flow": null,
            "grid_auto_rows": null,
            "grid_column": null,
            "grid_gap": null,
            "grid_row": null,
            "grid_template_areas": null,
            "grid_template_columns": null,
            "grid_template_rows": null,
            "height": null,
            "justify_content": null,
            "justify_items": null,
            "left": null,
            "margin": null,
            "max_height": null,
            "max_width": null,
            "min_height": null,
            "min_width": null,
            "object_fit": null,
            "object_position": null,
            "order": null,
            "overflow": null,
            "overflow_x": null,
            "overflow_y": null,
            "padding": null,
            "right": null,
            "top": null,
            "visibility": null,
            "width": null
          }
        },
        "775dd556d08d478288413f2abc15a266": {
          "model_module": "@jupyter-widgets/controls",
          "model_name": "DescriptionStyleModel",
          "model_module_version": "1.5.0",
          "state": {
            "_model_module": "@jupyter-widgets/controls",
            "_model_module_version": "1.5.0",
            "_model_name": "DescriptionStyleModel",
            "_view_count": null,
            "_view_module": "@jupyter-widgets/base",
            "_view_module_version": "1.2.0",
            "_view_name": "StyleView",
            "description_width": ""
          }
        },
        "77f4c2a539da4ec9856e33bf63910f26": {
          "model_module": "@jupyter-widgets/base",
          "model_name": "LayoutModel",
          "model_module_version": "1.2.0",
          "state": {
            "_model_module": "@jupyter-widgets/base",
            "_model_module_version": "1.2.0",
            "_model_name": "LayoutModel",
            "_view_count": null,
            "_view_module": "@jupyter-widgets/base",
            "_view_module_version": "1.2.0",
            "_view_name": "LayoutView",
            "align_content": null,
            "align_items": null,
            "align_self": null,
            "border": null,
            "bottom": null,
            "display": null,
            "flex": null,
            "flex_flow": null,
            "grid_area": null,
            "grid_auto_columns": null,
            "grid_auto_flow": null,
            "grid_auto_rows": null,
            "grid_column": null,
            "grid_gap": null,
            "grid_row": null,
            "grid_template_areas": null,
            "grid_template_columns": null,
            "grid_template_rows": null,
            "height": null,
            "justify_content": null,
            "justify_items": null,
            "left": null,
            "margin": null,
            "max_height": null,
            "max_width": null,
            "min_height": null,
            "min_width": null,
            "object_fit": null,
            "object_position": null,
            "order": null,
            "overflow": null,
            "overflow_x": null,
            "overflow_y": null,
            "padding": null,
            "right": null,
            "top": null,
            "visibility": null,
            "width": null
          }
        },
        "712daf0381ec426ab98ecb0975929902": {
          "model_module": "@jupyter-widgets/controls",
          "model_name": "ProgressStyleModel",
          "model_module_version": "1.5.0",
          "state": {
            "_model_module": "@jupyter-widgets/controls",
            "_model_module_version": "1.5.0",
            "_model_name": "ProgressStyleModel",
            "_view_count": null,
            "_view_module": "@jupyter-widgets/base",
            "_view_module_version": "1.2.0",
            "_view_name": "StyleView",
            "bar_color": null,
            "description_width": ""
          }
        },
        "8ebb39cd710e40e9851d8518efc9ee9a": {
          "model_module": "@jupyter-widgets/base",
          "model_name": "LayoutModel",
          "model_module_version": "1.2.0",
          "state": {
            "_model_module": "@jupyter-widgets/base",
            "_model_module_version": "1.2.0",
            "_model_name": "LayoutModel",
            "_view_count": null,
            "_view_module": "@jupyter-widgets/base",
            "_view_module_version": "1.2.0",
            "_view_name": "LayoutView",
            "align_content": null,
            "align_items": null,
            "align_self": null,
            "border": null,
            "bottom": null,
            "display": null,
            "flex": null,
            "flex_flow": null,
            "grid_area": null,
            "grid_auto_columns": null,
            "grid_auto_flow": null,
            "grid_auto_rows": null,
            "grid_column": null,
            "grid_gap": null,
            "grid_row": null,
            "grid_template_areas": null,
            "grid_template_columns": null,
            "grid_template_rows": null,
            "height": null,
            "justify_content": null,
            "justify_items": null,
            "left": null,
            "margin": null,
            "max_height": null,
            "max_width": null,
            "min_height": null,
            "min_width": null,
            "object_fit": null,
            "object_position": null,
            "order": null,
            "overflow": null,
            "overflow_x": null,
            "overflow_y": null,
            "padding": null,
            "right": null,
            "top": null,
            "visibility": null,
            "width": null
          }
        },
        "73aad9bfb33a4abbb5ef4cf7bc3fbc8c": {
          "model_module": "@jupyter-widgets/controls",
          "model_name": "DescriptionStyleModel",
          "model_module_version": "1.5.0",
          "state": {
            "_model_module": "@jupyter-widgets/controls",
            "_model_module_version": "1.5.0",
            "_model_name": "DescriptionStyleModel",
            "_view_count": null,
            "_view_module": "@jupyter-widgets/base",
            "_view_module_version": "1.2.0",
            "_view_name": "StyleView",
            "description_width": ""
          }
        }
      }
    }
  },
  "cells": [
    {
      "cell_type": "markdown",
      "metadata": {
        "id": "view-in-github",
        "colab_type": "text"
      },
      "source": [
        "<a href=\"https://colab.research.google.com/github/RodolfoFerro/deep-solar/blob/main/notebooks/Solution_(our_approach).ipynb\" target=\"_parent\"><img src=\"https://colab.research.google.com/assets/colab-badge.svg\" alt=\"Open In Colab\"/></a>"
      ]
    },
    {
      "cell_type": "markdown",
      "source": [
        "# Solution (our approach)\n",
        "\n",
        "## Current pipeline method\n",
        "\n",
        "At present, the raw data are converted to physics units using a calibration table, summed over the sensor segments, and recast as phase space distribution functions. A variety of ad hoc operations are invoked in order to tweak the background subtraction, isolate the physically relevant sub-range in voltage, and remove transients. Then a Gaussian peak fitting is performed. The parameters of the Gaussian map directly to _(n, w, |v|)_. Finally, the ratios between the signal peak values are fed into a table lookup to estimate the flow angle and complete the velocity vector.\n",
        "\n",
        "## Our approach\n",
        "\n",
        "This second model is trained on a compressed representation of data. The raw data corresponding to coordinates in `BGS` format was converted into a single Real Number value using the norm of the vector.\n",
        "\n",
        "> **Notes:**\n",
        "> - **BGSE:** Geocentric Solar Ecliptic system. This has its X-axis pointing from the Earth toward the Sun and its Y-axis is chosen to be in the ecliptic plane pointing towards dusk (thus opposing planetary motion). Its Z-axis is parallel to the ecliptic pole. Relative to an inertial system this system has a yearly rotation.\n",
        "> - **BGSM:** Geocentric Solar Magnetospheric system. This has its X-axis from the Earth to the Sun. The Y-axis is defined to be perpendicular to the Earth's magnetic dipole so that the X-Z plane contains the dipole axis. The positive Z-axis is chosen to be in the same sense as the northern magnetic pole. The difference between the GSM and GSE systems is simply a rotation about the X-axis.\n",
        "\n",
        "This led us to have a 2-column dataset, with the first column corresponding to the mentioned norm of the coordinates, and with the second column corresponding to BF1 values from the Wind dataset."
      ],
      "metadata": {
        "id": "oqlZ8kFJnuP9"
      }
    },
    {
      "cell_type": "code",
      "execution_count": 1,
      "metadata": {
        "colab": {
          "base_uri": "https://localhost:8080/"
        },
        "id": "M6d7XNadnmdl",
        "outputId": "795ac617-c664-4be9-a461-7934254e2b37"
      },
      "outputs": [
        {
          "output_type": "stream",
          "name": "stdout",
          "text": [
            "\u001b[K     |████████████████████████████████| 72 kB 1.3 MB/s \n",
            "\u001b[K     |████████████████████████████████| 633 kB 28.5 MB/s \n",
            "\u001b[?25h  Building wheel for wget (setup.py) ... \u001b[?25l\u001b[?25hdone\n"
          ]
        }
      ],
      "source": [
        "!pip install wget cdflib dtw-python -q"
      ]
    },
    {
      "cell_type": "markdown",
      "source": [
        "> **Notes:** \n",
        "> - Data from [_Wind dataset_](https://cdaweb.gsfc.nasa.gov/pub/data/wind/mfi/mfi_h2/2022/) is available from 1994 (1994-11-13) to 2022 (2022-09-17).\n",
        "> - Data form [_DSCOVR magnetic field dataset_](https://cdaweb.gsfc.nasa.gov/pub/data/dscovr/h0/mag/2022/) is available from 2015 (2015-06-08) to 2022 (2022-09-17).\n",
        "\n",
        "We will start loading some libraries:"
      ],
      "metadata": {
        "id": "3XY4R_m-n84p"
      }
    },
    {
      "cell_type": "code",
      "source": [
        "from datetime import datetime\n",
        "from datetime import timedelta\n",
        "import re\n",
        "\n",
        "import numpy as np\n",
        "import matplotlib.pyplot as plt\n",
        "from tqdm.autonotebook import tqdm\n",
        "import pandas as pd\n",
        "import xarray as xr\n",
        "from dtw import dtw\n",
        "from dtw import rabinerJuangStepPattern\n",
        "import cdflib\n",
        "import wget\n",
        "\n",
        "plt.style.use('seaborn')"
      ],
      "metadata": {
        "colab": {
          "base_uri": "https://localhost:8080/"
        },
        "id": "nUU-msXLn6YY",
        "outputId": "a20168e6-0785-4bfe-b52d-2d517ed99c14"
      },
      "execution_count": 10,
      "outputs": [
        {
          "output_type": "stream",
          "name": "stderr",
          "text": [
            "/usr/local/lib/python3.7/dist-packages/ipykernel_launcher.py:7: TqdmExperimentalWarning: Using `tqdm.autonotebook.tqdm` in notebook mode. Use `tqdm.tqdm` instead to force console mode (e.g. in jupyter console)\n",
            "  import sys\n"
          ]
        }
      ]
    },
    {
      "cell_type": "markdown",
      "source": [
        "We will no proceed to create a date range estimator, in order to dowload all files between that range for training."
      ],
      "metadata": {
        "id": "2c0PeDUixJEa"
      }
    },
    {
      "cell_type": "code",
      "source": [
        "def date_range(start, end):\n",
        "    delta = end - start  # as timedelta\n",
        "    days = [start + timedelta(days=i) for i in range(delta.days + 1)]\n",
        "    return days"
      ],
      "metadata": {
        "id": "EgGveLFkkfxq"
      },
      "execution_count": 4,
      "outputs": []
    },
    {
      "cell_type": "markdown",
      "source": [
        "We download the files:"
      ],
      "metadata": {
        "id": "xK0fztdpxRjo"
      }
    },
    {
      "cell_type": "code",
      "source": [
        "start_date = datetime(2022, 8, 17)\n",
        "end_date = datetime(2022, 9, 17)\n",
        "\n",
        "dates = date_range(start_date, end_date)\n",
        "dates = [date.strftime('%Y%m%d') for date in dates]\n",
        "files = []\n",
        "\n",
        "for date in tqdm(dates):\n",
        "    for v in ['04', '03', '02', '01']:\n",
        "        try:\n",
        "            wind_url = f'https://cdaweb.gsfc.nasa.gov/pub/data/wind/mfi/mfi_h2/2022/wi_h2_mfi_{date}_v{v}.cdf'\n",
        "            wind_filename = wget.download(wind_url)\n",
        "            print('[INFO] File found! ->', wind_filename)\n",
        "            files.append(wind_filename)\n",
        "            break\n",
        "        except:\n",
        "            continue"
      ],
      "metadata": {
        "colab": {
          "base_uri": "https://localhost:8080/",
          "height": 640,
          "referenced_widgets": [
            "1cf44a5eeb094f958f92545fee738b5a",
            "7c50bd517ef947ba91862f06a72b5397",
            "f5233e00530d4b8bb6db2956a535295f",
            "c5607eddfc0448d9992857f9007ceb09",
            "04f6a27acc7b4d8ea4db2438593dde0e",
            "2f102c0f385d416ea33e38bbd8396e4d",
            "fa66d6e9acf347d0b934e02edcd9af8e",
            "7c0cf28ea512416a8654e5f6fea5ae41",
            "1d5967bd1dad4f0c8635c3c76afab97a",
            "4f7f9fe436614b7e8b64bd8bb55d08a1",
            "bd1873c5552346c39a50e26fe7273e92"
          ]
        },
        "id": "vD_pC5vLn_oS",
        "outputId": "20f441f3-0429-40f5-8248-70bebc6c9829"
      },
      "execution_count": 13,
      "outputs": [
        {
          "output_type": "display_data",
          "data": {
            "text/plain": [
              "  0%|          | 0/32 [00:00<?, ?it/s]"
            ],
            "application/vnd.jupyter.widget-view+json": {
              "version_major": 2,
              "version_minor": 0,
              "model_id": "1cf44a5eeb094f958f92545fee738b5a"
            }
          },
          "metadata": {}
        },
        {
          "output_type": "stream",
          "name": "stdout",
          "text": [
            "[INFO] File found! -> wi_h2_mfi_20220817_v04.cdf\n",
            "[INFO] File found! -> wi_h2_mfi_20220818_v04.cdf\n",
            "[INFO] File found! -> wi_h2_mfi_20220819_v04.cdf\n",
            "[INFO] File found! -> wi_h2_mfi_20220820_v04.cdf\n",
            "[INFO] File found! -> wi_h2_mfi_20220821_v04.cdf\n",
            "[INFO] File found! -> wi_h2_mfi_20220822_v04.cdf\n",
            "[INFO] File found! -> wi_h2_mfi_20220823_v04.cdf\n",
            "[INFO] File found! -> wi_h2_mfi_20220824_v04.cdf\n",
            "[INFO] File found! -> wi_h2_mfi_20220825_v04.cdf\n",
            "[INFO] File found! -> wi_h2_mfi_20220826_v04.cdf\n",
            "[INFO] File found! -> wi_h2_mfi_20220827_v04.cdf\n",
            "[INFO] File found! -> wi_h2_mfi_20220828_v04.cdf\n",
            "[INFO] File found! -> wi_h2_mfi_20220829_v04.cdf\n",
            "[INFO] File found! -> wi_h2_mfi_20220830_v04.cdf\n",
            "[INFO] File found! -> wi_h2_mfi_20220831_v04.cdf\n",
            "[INFO] File found! -> wi_h2_mfi_20220901_v04.cdf\n",
            "[INFO] File found! -> wi_h2_mfi_20220902_v04.cdf\n",
            "[INFO] File found! -> wi_h2_mfi_20220903_v04.cdf\n",
            "[INFO] File found! -> wi_h2_mfi_20220904_v04.cdf\n",
            "[INFO] File found! -> wi_h2_mfi_20220905_v04.cdf\n",
            "[INFO] File found! -> wi_h2_mfi_20220906_v04.cdf\n",
            "[INFO] File found! -> wi_h2_mfi_20220907_v04.cdf\n",
            "[INFO] File found! -> wi_h2_mfi_20220908_v03.cdf\n",
            "[INFO] File found! -> wi_h2_mfi_20220909_v03.cdf\n",
            "[INFO] File found! -> wi_h2_mfi_20220910_v03.cdf\n",
            "[INFO] File found! -> wi_h2_mfi_20220911_v03.cdf\n",
            "[INFO] File found! -> wi_h2_mfi_20220912_v03.cdf\n",
            "[INFO] File found! -> wi_h2_mfi_20220913_v03.cdf\n",
            "[INFO] File found! -> wi_h2_mfi_20220914_v03.cdf\n",
            "[INFO] File found! -> wi_h2_mfi_20220915_v03.cdf\n",
            "[INFO] File found! -> wi_h2_mfi_20220916_v03.cdf\n",
            "[INFO] File found! -> wi_h2_mfi_20220917_v03.cdf\n"
          ]
        }
      ]
    },
    {
      "cell_type": "markdown",
      "source": [
        "### Data loading\n",
        "\n",
        "To load data, we will use [`cfdlib`](https://cdflib.readthedocs.io/en/stable/), which will allow us to interact with data as XArray tables.\n",
        "\n",
        "\n",
        "We will iteratively load data and append it to a big table.\n",
        "\n",
        "> **CONSIDER:** If you are running this notebook, this process takes a while."
      ],
      "metadata": {
        "id": "_jjzhsMnxUNH"
      }
    },
    {
      "cell_type": "code",
      "source": [
        "df = pd.DataFrame()\n",
        "\n",
        "for wind_file in tqdm(files):\n",
        "    print(\"[INFO] Processing file ->\", wind_file)\n",
        "    wind_cdf_data = cdflib.cdf_to_xarray(wind_file, to_datetime=True, fillval_to_nan=True)\n",
        "\n",
        "    wind_data = wind_cdf_data['BGSE'].to_pandas()\n",
        "    wind_data.columns = ['x', 'y', 'z']\n",
        "    wind_data['BF1'] = wind_cdf_data['BF1'].to_pandas()\n",
        "    wind_data['norm'] = np.linalg.norm(wind_data[['x', 'y', 'z']].values, axis=1)\n",
        "\n",
        "    df = df.append(wind_data)"
      ],
      "metadata": {
        "id": "aAeWx47toB0Z",
        "colab": {
          "base_uri": "https://localhost:8080/",
          "height": 640,
          "referenced_widgets": [
            "012916e6039d4e4abf346329e1d835b1",
            "4cacfca8108643cda177ba190b1965a7",
            "d74daf999ee34c7e82620bf67e4f2e0a",
            "3d350ddd1b3e4aebab62b6e993150ef5",
            "492899e83bf44c9aae89c3e8eb3d36ee",
            "b23d9f00b4d14e63b46085ca93ede80d",
            "775dd556d08d478288413f2abc15a266",
            "77f4c2a539da4ec9856e33bf63910f26",
            "712daf0381ec426ab98ecb0975929902",
            "8ebb39cd710e40e9851d8518efc9ee9a",
            "73aad9bfb33a4abbb5ef4cf7bc3fbc8c"
          ]
        },
        "outputId": "4a7cb7f0-2fa3-48d3-ff95-0fb033fb077f"
      },
      "execution_count": 14,
      "outputs": [
        {
          "output_type": "display_data",
          "data": {
            "text/plain": [
              "  0%|          | 0/32 [00:00<?, ?it/s]"
            ],
            "application/vnd.jupyter.widget-view+json": {
              "version_major": 2,
              "version_minor": 0,
              "model_id": "012916e6039d4e4abf346329e1d835b1"
            }
          },
          "metadata": {}
        },
        {
          "output_type": "stream",
          "name": "stdout",
          "text": [
            "[INFO] Processing file -> wi_h2_mfi_20220817_v04.cdf\n",
            "[INFO] Processing file -> wi_h2_mfi_20220818_v04.cdf\n",
            "[INFO] Processing file -> wi_h2_mfi_20220819_v04.cdf\n",
            "[INFO] Processing file -> wi_h2_mfi_20220820_v04.cdf\n",
            "[INFO] Processing file -> wi_h2_mfi_20220821_v04.cdf\n",
            "[INFO] Processing file -> wi_h2_mfi_20220822_v04.cdf\n",
            "[INFO] Processing file -> wi_h2_mfi_20220823_v04.cdf\n",
            "[INFO] Processing file -> wi_h2_mfi_20220824_v04.cdf\n",
            "[INFO] Processing file -> wi_h2_mfi_20220825_v04.cdf\n",
            "[INFO] Processing file -> wi_h2_mfi_20220826_v04.cdf\n",
            "[INFO] Processing file -> wi_h2_mfi_20220827_v04.cdf\n",
            "[INFO] Processing file -> wi_h2_mfi_20220828_v04.cdf\n",
            "[INFO] Processing file -> wi_h2_mfi_20220829_v04.cdf\n",
            "[INFO] Processing file -> wi_h2_mfi_20220830_v04.cdf\n",
            "[INFO] Processing file -> wi_h2_mfi_20220831_v04.cdf\n",
            "[INFO] Processing file -> wi_h2_mfi_20220901_v04.cdf\n",
            "[INFO] Processing file -> wi_h2_mfi_20220902_v04.cdf\n",
            "[INFO] Processing file -> wi_h2_mfi_20220903_v04.cdf\n",
            "[INFO] Processing file -> wi_h2_mfi_20220904_v04.cdf\n",
            "[INFO] Processing file -> wi_h2_mfi_20220905_v04.cdf\n",
            "[INFO] Processing file -> wi_h2_mfi_20220906_v04.cdf\n",
            "[INFO] Processing file -> wi_h2_mfi_20220907_v04.cdf\n",
            "[INFO] Processing file -> wi_h2_mfi_20220908_v03.cdf\n",
            "[INFO] Processing file -> wi_h2_mfi_20220909_v03.cdf\n",
            "[INFO] Processing file -> wi_h2_mfi_20220910_v03.cdf\n",
            "[INFO] Processing file -> wi_h2_mfi_20220911_v03.cdf\n",
            "[INFO] Processing file -> wi_h2_mfi_20220912_v03.cdf\n",
            "[INFO] Processing file -> wi_h2_mfi_20220913_v03.cdf\n",
            "[INFO] Processing file -> wi_h2_mfi_20220914_v03.cdf\n",
            "[INFO] Processing file -> wi_h2_mfi_20220915_v03.cdf\n",
            "[INFO] Processing file -> wi_h2_mfi_20220916_v03.cdf\n",
            "[INFO] Processing file -> wi_h2_mfi_20220917_v03.cdf\n"
          ]
        }
      ]
    },
    {
      "cell_type": "markdown",
      "source": [
        "As we can see, for a month of information, we have ~29.7 million rows."
      ],
      "metadata": {
        "id": "T_GzzsjixtIS"
      }
    },
    {
      "cell_type": "code",
      "source": [
        "len(df)"
      ],
      "metadata": {
        "colab": {
          "base_uri": "https://localhost:8080/"
        },
        "id": "2goQzeK3pHqv",
        "outputId": "6dd60708-5a54-4ccd-e867-e74ff17d853f"
      },
      "execution_count": 16,
      "outputs": [
        {
          "output_type": "execute_result",
          "data": {
            "text/plain": [
              "29732420"
            ]
          },
          "metadata": {},
          "execution_count": 16
        }
      ]
    },
    {
      "cell_type": "markdown",
      "source": [
        "### Data preparation\n",
        "\n",
        "We will now proceed to take 2 of the features, a representation of `BGSE` and `BF1` and scale the data, prior to train a model."
      ],
      "metadata": {
        "id": "eUE0rPEZx5sr"
      }
    },
    {
      "cell_type": "code",
      "source": [
        "from sklearn.preprocessing import MinMaxScaler\n",
        "\n",
        "\n",
        "features = df[['norm', 'BF1']]\n",
        "scaler = MinMaxScaler()\n",
        "scaler.fit(features)\n",
        "scaled_features = scaler.transform(features)"
      ],
      "metadata": {
        "id": "BlSMtefCqp-I"
      },
      "execution_count": 17,
      "outputs": []
    },
    {
      "cell_type": "code",
      "source": [
        "scaled_features"
      ],
      "metadata": {
        "id": "pUbP8TlNq_qk",
        "colab": {
          "base_uri": "https://localhost:8080/"
        },
        "outputId": "98956a24-a90c-47c6-b073-9fe6ef1da415"
      },
      "execution_count": 18,
      "outputs": [
        {
          "output_type": "execute_result",
          "data": {
            "text/plain": [
              "array([[0.3837791 , 0.3837791 ],\n",
              "       [0.38262427, 0.38262424],\n",
              "       [0.3814674 , 0.3814674 ],\n",
              "       ...,\n",
              "       [0.54184467, 0.54184467],\n",
              "       [0.54116344, 0.54116344],\n",
              "       [0.5404409 , 0.5404409 ]], dtype=float32)"
            ]
          },
          "metadata": {},
          "execution_count": 18
        }
      ]
    },
    {
      "cell_type": "markdown",
      "source": [
        "### Model training\n",
        "\n",
        "We proceed to create and train an autoencoder.\n",
        "\n",
        "> **CONSIDER:** If you are running this notebook, this process takes a while."
      ],
      "metadata": {
        "id": "Ec9Gp8cww4Xk"
      }
    },
    {
      "cell_type": "code",
      "source": [
        "# Model and performance\n",
        "import tensorflow as tf\n",
        "from sklearn.model_selection import train_test_split\n",
        "from sklearn.metrics import classification_report\n",
        "\n",
        "\n",
        "data_length = 2\n",
        "\n",
        "w_train, w_test = train_test_split(scaled_features, test_size=0.2, random_state=42)\n",
        "\n",
        "input = tf.keras.layers.Input(shape=(data_length,))\n",
        "\n",
        "# Encoder layers\n",
        "encoder = tf.keras.Sequential([\n",
        "  tf.keras.layers.Dense(16, activation='relu'),\n",
        "  tf.keras.layers.Dense(8, activation='relu'),\n",
        "  tf.keras.layers.Dense(4, activation='relu')])(input)\n",
        "\n",
        "# Decoder layers\n",
        "decoder = tf.keras.Sequential([\n",
        "      tf.keras.layers.Dense(8, activation='relu'),\n",
        "      tf.keras.layers.Dense(16, activation='relu'),\n",
        "      tf.keras.layers.Dense(data_length, activation='sigmoid')])(encoder)\n",
        "\n",
        "# Create the autoencoder\n",
        "autoencoder = tf.keras.Model(inputs=input, outputs=decoder)"
      ],
      "metadata": {
        "id": "Ykk8kDuxoeFa"
      },
      "execution_count": 19,
      "outputs": []
    },
    {
      "cell_type": "markdown",
      "source": [
        "Once the model is instantiated, we proceed to compile it and train it for 20 epochs (100 epochs take around 18 hours to train).\n",
        "\n",
        "> **CONSIDER:** If you are running this notebook, this process takes a while."
      ],
      "metadata": {
        "id": "u9nFSTYJyXRu"
      }
    },
    {
      "cell_type": "code",
      "source": [
        "# Compile the autoencoder\n",
        "autoencoder.compile(optimizer='adam', loss='msle',  metrics=['mse'])\n",
        "\n",
        "# Fit the autoencoder\n",
        "history = autoencoder.fit(\n",
        "    w_train,\n",
        "    w_train,\n",
        "    epochs=20,\n",
        "    batch_size=64,\n",
        "    validation_data=(w_test, w_test))"
      ],
      "metadata": {
        "id": "oyTnbY3Ap_No",
        "colab": {
          "base_uri": "https://localhost:8080/"
        },
        "outputId": "305daeba-f2ea-41bf-917e-32dbc85ddbad"
      },
      "execution_count": null,
      "outputs": [
        {
          "output_type": "stream",
          "name": "stdout",
          "text": [
            "Epoch 1/20\n",
            "371656/371656 [==============================] - 708s 2ms/step - loss: 1.5795e-06 - mse: 2.7071e-06 - val_loss: 1.1704e-06 - val_mse: 1.9254e-06\n",
            "Epoch 2/20\n",
            "371656/371656 [==============================] - 604s 2ms/step - loss: 9.5320e-07 - mse: 1.6656e-06 - val_loss: 2.3232e-07 - val_mse: 4.3890e-07\n",
            "Epoch 3/20\n",
            "371656/371656 [==============================] - 564s 2ms/step - loss: 1.6904e-07 - mse: 3.5211e-07 - val_loss: 8.9965e-08 - val_mse: 1.9326e-07\n",
            "Epoch 4/20\n",
            "371656/371656 [==============================] - 565s 2ms/step - loss: 1.4246e-07 - mse: 2.9538e-07 - val_loss: 9.2353e-08 - val_mse: 1.9943e-07\n",
            "Epoch 5/20\n",
            "371656/371656 [==============================] - 566s 2ms/step - loss: 1.1309e-07 - mse: 2.2157e-07 - val_loss: 8.6929e-08 - val_mse: 1.5410e-07\n",
            "Epoch 6/20\n",
            "371656/371656 [==============================] - 559s 2ms/step - loss: 7.6772e-08 - mse: 1.5246e-07 - val_loss: 1.9313e-08 - val_mse: 4.7541e-08\n",
            "Epoch 7/20\n",
            "371656/371656 [==============================] - 590s 2ms/step - loss: 5.4144e-08 - mse: 1.1215e-07 - val_loss: 2.2390e-08 - val_mse: 4.9373e-08\n",
            "Epoch 8/20\n",
            "371656/371656 [==============================] - 580s 2ms/step - loss: 4.1905e-08 - mse: 8.8687e-08 - val_loss: 1.6356e-08 - val_mse: 4.0847e-08\n",
            "Epoch 9/20\n",
            "371656/371656 [==============================] - 582s 2ms/step - loss: 3.2743e-08 - mse: 6.9766e-08 - val_loss: 1.4233e-07 - val_mse: 3.1378e-07\n",
            "Epoch 10/20\n",
            "371656/371656 [==============================] - 563s 2ms/step - loss: 2.8112e-08 - mse: 5.9806e-08 - val_loss: 1.1579e-08 - val_mse: 2.7995e-08\n",
            "Epoch 11/20\n",
            "371656/371656 [==============================] - 569s 2ms/step - loss: 2.3667e-08 - mse: 4.9281e-08 - val_loss: 5.2046e-08 - val_mse: 1.1264e-07\n",
            "Epoch 12/20\n",
            "371656/371656 [==============================] - 576s 2ms/step - loss: 2.1768e-08 - mse: 4.5630e-08 - val_loss: 9.4670e-09 - val_mse: 1.8455e-08\n",
            "Epoch 13/20\n",
            "371656/371656 [==============================] - 591s 2ms/step - loss: 1.9438e-08 - mse: 4.0885e-08 - val_loss: 4.9861e-09 - val_mse: 1.2545e-08\n",
            "Epoch 14/20\n",
            "371656/371656 [==============================] - 583s 2ms/step - loss: 1.8230e-08 - mse: 3.8529e-08 - val_loss: 1.8467e-08 - val_mse: 3.5905e-08\n",
            "Epoch 15/20\n",
            "371656/371656 [==============================] - 584s 2ms/step - loss: 1.7647e-08 - mse: 3.7331e-08 - val_loss: 9.0710e-09 - val_mse: 1.7986e-08\n",
            "Epoch 16/20\n",
            "371656/371656 [==============================] - 604s 2ms/step - loss: 1.7184e-08 - mse: 3.6384e-08 - val_loss: 9.9508e-09 - val_mse: 2.1198e-08\n",
            "Epoch 17/20\n",
            "317121/371656 [========================>.....] - ETA: 1:15 - loss: 1.6963e-08 - mse: 3.5839e-08"
          ]
        }
      ]
    },
    {
      "cell_type": "markdown",
      "source": [
        "Let's see the training history:"
      ],
      "metadata": {
        "id": "Nx4d4QzDyqCE"
      }
    },
    {
      "cell_type": "code",
      "source": [
        "from plotly.subplots import make_subplots\n",
        "import plotly.graph_objects as go\n",
        "\n",
        "\n",
        "x = np.arange(len(history.history['loss']))\n",
        "\n",
        "fig = make_subplots(rows=1, cols=1)\n",
        "fig.append_trace(go.Scatter(x=x, y=history.history['loss'], name='loss'), row=1, col=1)\n",
        "fig.append_trace(go.Scatter(x=x, y=history.history['val_loss'], name='val_loss'), row=1, col=1)\n",
        "fig.update_layout(xaxis_title=\"Epoch\", yaxis_title=\"Loss\")\n",
        "fig.show()"
      ],
      "metadata": {
        "id": "JkLWpjbKy9En"
      },
      "execution_count": null,
      "outputs": []
    },
    {
      "cell_type": "markdown",
      "source": [
        "### Saving the model\n",
        "\n",
        "Once the model is trained, we proceed to save it, so we can export it and use it in our application."
      ],
      "metadata": {
        "id": "wxi_ezx1ytXA"
      }
    },
    {
      "cell_type": "code",
      "source": [
        "# Serialize model tomodels JSON:\n",
        "json_autoencoder = autoencoder.to_json()\n",
        "with open('general_model.json', 'w') as json_file:\n",
        "    json_file.write(json_autoencoder)\n",
        "\n",
        "# Serialize weights to HDF5 (h5py needed):\n",
        "autoencoder.save_weights('general_model.h5')\n",
        "print('[INFO] Model saved to disk.')"
      ],
      "metadata": {
        "id": "Jj1e6S-_wDSJ"
      },
      "execution_count": null,
      "outputs": []
    },
    {
      "cell_type": "markdown",
      "source": [
        "## Model testing"
      ],
      "metadata": {
        "id": "8w5-MJdNz7OM"
      }
    },
    {
      "cell_type": "code",
      "source": [
        "def find_threshold(model, x_train_scaled):\n",
        "    reconstructions = model.predict(x_train_scaled)\n",
        "    # provides losses of individual instances\n",
        "    reconstruction_errors = tf.keras.losses.msle(reconstructions, x_train_scaled)\n",
        "    # threshold for anomaly scores\n",
        "    threshold = np.mean(reconstruction_errors.numpy()) \\\n",
        "        + 3 * np.std(reconstruction_errors.numpy())\n",
        "    return threshold\n",
        "\n",
        "def get_predictions(model, x_test_scaled, threshold):\n",
        "    predictions = model.predict(x_test_scaled)\n",
        "    # provides losses of individual instances\n",
        "    errors = tf.keras.losses.msle(predictions, x_test_scaled)\n",
        "    # 0 = anomaly, 1 = normal\n",
        "    anomaly_mask = pd.Series(errors) > threshold\n",
        "    preds = anomaly_mask.map(lambda x: 1 if x == True else 0)\n",
        "    return errors, preds"
      ],
      "metadata": {
        "id": "FlGX9mkltcrK"
      },
      "execution_count": null,
      "outputs": []
    },
    {
      "cell_type": "code",
      "source": [
        "threshold = find_threshold(autoencoder, w_train)\n",
        "print(f\"Threshold: {threshold}\")"
      ],
      "metadata": {
        "id": "e1d_UcPKtpLe"
      },
      "execution_count": null,
      "outputs": []
    },
    {
      "cell_type": "code",
      "source": [
        "errors, predictions = get_predictions(autoencoder, w_test, threshold)"
      ],
      "metadata": {
        "id": "VBFGscD66QdR"
      },
      "execution_count": null,
      "outputs": []
    },
    {
      "cell_type": "code",
      "source": [
        "reconstructions = autoencoder.predict(w_train)\n",
        "reconstruction_errors = tf.keras.losses.msle(reconstructions, w_train)"
      ],
      "metadata": {
        "id": "7G-9GaSxIvlX"
      },
      "execution_count": null,
      "outputs": []
    },
    {
      "cell_type": "code",
      "source": [
        "w_train[0], reconstructions[0], reconstruction_errors[0].numpy()"
      ],
      "metadata": {
        "id": "Z1os2P-wJ82P"
      },
      "execution_count": null,
      "outputs": []
    },
    {
      "cell_type": "code",
      "source": [
        "from plotly.subplots import make_subplots\n",
        "import plotly.graph_objects as go\n",
        "import numpy as np\n",
        "\n",
        "x = np.arange(50, 450)\n",
        "\n",
        "fig = make_subplots(rows=2, cols=1)\n",
        "fig.append_trace(go.Scatter(x=x, y=w_train[50:450, 1], line=dict(color='royalblue', width=4, dash='dot')), row=1, col=1)\n",
        "fig.append_trace(go.Scatter(x=x, y=reconstructions[50:450, 1]), row=1, col=1)\n",
        "fig.append_trace(go.Scatter(x=x, y=reconstruction_errors[50:450]), row=2, col=1)\n",
        "fig.add_hline(y=threshold, row=2, col=1)\n",
        "fig.show()"
      ],
      "metadata": {
        "id": "JN0Kb0hZLnKh"
      },
      "execution_count": null,
      "outputs": []
    },
    {
      "cell_type": "code",
      "source": [],
      "metadata": {
        "id": "4RUiE6syKfaI"
      },
      "execution_count": null,
      "outputs": []
    }
  ]
}